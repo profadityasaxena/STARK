{
 "cells": [
  {
   "cell_type": "markdown",
   "id": "2607ba91",
   "metadata": {},
   "source": [
    "\n",
    "---\n",
    "### LLM Agents with Reinforcement Learning\n",
    "---\n"
   ]
  },
  {
   "cell_type": "markdown",
   "id": "adfc728a",
   "metadata": {},
   "source": [
    "##### Core Imports"
   ]
  },
  {
   "cell_type": "code",
   "execution_count": 108,
   "id": "6106c7f4",
   "metadata": {},
   "outputs": [],
   "source": [
    "# --- Core Libraries ---\n",
    "import os\n",
    "import time\n",
    "import random\n",
    "import json\n",
    "from typing import List, Dict, Optional, Callable, Tuple\n",
    "\n",
    "# --- Data & Visualization ---\n",
    "import numpy as np\n",
    "import pandas as pd\n",
    "import matplotlib.pyplot as plt\n",
    "plt.style.use(\"seaborn-v0_8-darkgrid\")  # Optional: Apply plotting style\n",
    "\n",
    "# --- Display Utilities (Jupyter) ---\n",
    "from IPython.display import display, Markdown\n",
    "\n",
    "# --- HTTP & API Interaction ---\n",
    "import requests\n",
    "\n",
    "# --- Utilities ---\n",
    "from pprint import pprint  # Optional: Pretty-print JSON responses\n",
    "\n",
    "# --- Constants for LLM ---\n",
    "OLLAMA_MODEL = \"llama3\"  # Adjust as needed\n",
    "OLLAMA_API_URL = \"http://localhost:11434/api/generate\"\n"
   ]
  },
  {
   "cell_type": "markdown",
   "id": "8de2eac5",
   "metadata": {},
   "source": [
    "##### Query LLM Function"
   ]
  },
  {
   "cell_type": "code",
   "execution_count": 109,
   "id": "386d4b6c",
   "metadata": {},
   "outputs": [],
   "source": [
    "def query_llm(\n",
    "    prompt: str,\n",
    "    model: str,\n",
    "    api_url: str,\n",
    "    stream: bool = False,\n",
    "    display_markdown: bool = True,\n",
    "    header: Optional[str] = None,\n",
    ") -> Optional[str]:\n",
    "    \"\"\"\n",
    "    Query a locally or remotely hosted LLM endpoint and optionally display formatted output in a Jupyter Notebook.\n",
    "\n",
    "    Args:\n",
    "        prompt (str): The input prompt to send to the LLM.\n",
    "        model (str): The name of the model to use.\n",
    "        api_url (str): The API endpoint URL.\n",
    "        stream (bool): Whether to stream the response.\n",
    "        display_markdown (bool): Whether to display output as Markdown in Jupyter.\n",
    "        header (Optional[str]): Optional header for Markdown display.\n",
    "\n",
    "    Returns:\n",
    "        Optional[str]: The response string (if display_markdown is False), else None.\n",
    "    \"\"\"\n",
    "    payload = {\n",
    "        \"model\": model,\n",
    "        \"prompt\": prompt,\n",
    "        \"stream\": stream\n",
    "    }\n",
    "\n",
    "    try:\n",
    "        response = requests.post(api_url, json=payload, timeout=60)\n",
    "        response.raise_for_status()\n",
    "\n",
    "        if stream:\n",
    "            result = \"\"\n",
    "            for line in response.iter_lines():\n",
    "                if line:\n",
    "                    try:\n",
    "                        result += json.loads(line.decode())[\"response\"]\n",
    "                    except Exception:\n",
    "                        continue\n",
    "        else:\n",
    "            result = response.json().get(\"response\", \"\").strip()\n",
    "\n",
    "        if display_markdown:\n",
    "            markdown_text = f\"### {header}\\n\\n{result}\" if header else result\n",
    "            display(Markdown(markdown_text))\n",
    "            return None\n",
    "\n",
    "        return result\n",
    "\n",
    "    except requests.exceptions.RequestException as e:\n",
    "        error_msg = f\"[LLM ERROR] {e}\"\n",
    "        if display_markdown:\n",
    "            display(Markdown(f\"**LLM Error:** `{e}`\"))\n",
    "            return None\n",
    "        print(error_msg)\n",
    "        return error_msg\n"
   ]
  },
  {
   "cell_type": "code",
   "execution_count": 110,
   "id": "21f3f689",
   "metadata": {},
   "outputs": [
    {
     "data": {
      "text/markdown": [
       "### Prisoner's Dilemma in Game Theory\n",
       "\n",
       "A fundamental concept in game theory!\n",
       "\n",
       "The Prisoner's Dilemma (PD) is a classic thought experiment designed by Merrill Flood and Melvin Dresher in 1950. It's a simple, yet powerful, example that illustrates the challenges of cooperation and the importance of self-interest in decision-making.\n",
       "\n",
       "**The Story:**\n",
       "\n",
       "Two suspects, A and B, are arrested and interrogated separately by the police about a crime they both committed. Each suspect has two options:\n",
       "\n",
       "1. **Cooperate (C)**: Tell the truth and implicate themselves as accomplices.\n",
       "2. **Defect (D)**: Refuse to cooperate and incriminate the other suspect.\n",
       "\n",
       "The payoffs for each combination are as follows:\n",
       "\n",
       "|  | Suspect A's choice | Suspect B's choice |\n",
       "| --- | --- | --- |\n",
       "| **Cooperate (C)** | 1 year in prison, B gets 2 years | 2 years in prison, A gets 1 year |\n",
       "| **Defect (D)** | 0 years in prison, B gets 3 years | 3 years in prison, A gets 0 years |\n",
       "\n",
       "**The Dilemma:**\n",
       "\n",
       "When both suspects cooperate (C, C), they each serve a relatively short sentence of 1 year. When one suspect defects and the other cooperates (D, C or C, D), the defector goes free, while the cooperator serves a longer sentence of 2 years.\n",
       "\n",
       "However, when both suspects defect (D, D), they both serve a moderate sentence of 3 years each.\n",
       "\n",
       "**Why is it important in game theory?**\n",
       "\n",
       "The Prisoner's Dilemma illustrates several key concepts:\n",
       "\n",
       "1. **Conflict between individual and collective rationality**: Each suspect prefers to defect, as this leads to the best possible outcome for them (0 or 2 years in prison). However, if both suspects cooperate, they would collectively prefer a better outcome (both serving 1 year).\n",
       "2. **Nash Equilibrium**: The PD demonstrates that when all players choose their optimal response given the actions of others, no player can improve their payoff by unilaterally changing their strategy.\n",
       "3. **Coordination problems**: In the PD, cooperation is not an equilibrium solution because each suspect has a dominant strategy (defecting) regardless of what the other does. This highlights the difficulty of achieving cooperative outcomes in situations where individual self-interest conflicts with collective well-being.\n",
       "4. **Evolutionary dynamics**: The PD has been used to study the evolution of cooperation and the emergence of social norms.\n",
       "\n",
       "The Prisoner's Dilemma has far-reaching implications in various fields, including economics, politics, sociology, biology, and computer science. It serves as a foundation for understanding the challenges of achieving cooperative outcomes and the importance of considering individual self-interest in decision-making processes."
      ],
      "text/plain": [
       "<IPython.core.display.Markdown object>"
      ]
     },
     "metadata": {},
     "output_type": "display_data"
    }
   ],
   "source": [
    "# Test the LLM connection (clean display with Markdown)\n",
    "test_prompt = \"What is the prisoner's dilemma and why is it important in game theory?\"\n",
    "query_llm(\n",
    "    prompt=test_prompt,\n",
    "    model=OLLAMA_MODEL,\n",
    "    api_url=OLLAMA_API_URL,\n",
    "    header=\"Prisoner's Dilemma in Game Theory\"\n",
    ")\n"
   ]
  },
  {
   "cell_type": "markdown",
   "id": "a63dcc5e",
   "metadata": {},
   "source": [
    "##### Agent with Deep Reinforcement Learning\n",
    "---"
   ]
  },
  {
   "cell_type": "code",
   "execution_count": 111,
   "id": "9586d96b",
   "metadata": {},
   "outputs": [],
   "source": [
    "import textwrap\n",
    "from IPython.display import Markdown, display\n",
    "import requests\n",
    "import json\n",
    "\n",
    "class GenerativeAgent:\n",
    "    def __init__(\n",
    "        self,\n",
    "        persona: str,\n",
    "        objectives: str,\n",
    "        constraints: str,\n",
    "        strategies: str,\n",
    "        model: str = \"llama3\",\n",
    "        api_url: str = \"http://localhost:11434/api/generate\"\n",
    "    ):\n",
    "        self.persona = self._validate_input(persona, \"Persona\", 600)\n",
    "        self.objectives = self._validate_input(objectives, \"Objectives\", 600)\n",
    "        self.constraints = self._validate_input(constraints, \"Constraints\", 600)\n",
    "        self.strategies = self._validate_input(strategies, \"Strategies\", 600)\n",
    "        self.model = model\n",
    "        self.api_url = api_url\n",
    "\n",
    "    # --- Validation Helper ---\n",
    "    def _validate_input(self, value: str, field: str, max_len: int) -> str:\n",
    "        if not isinstance(value, str) or not (0 < len(value) <= max_len):\n",
    "            raise ValueError(f\"{field} must be a non-empty string with max {max_len} characters.\")\n",
    "        return value.strip()\n",
    "\n",
    "    # --- LLM API Call ---\n",
    "    def _call_llm(self, prompt: str) -> str:\n",
    "        payload = {\n",
    "            \"model\": self.model,\n",
    "            \"prompt\": prompt,\n",
    "            \"stream\": False\n",
    "        }\n",
    "\n",
    "        try:\n",
    "            response = requests.post(self.api_url, json=payload, timeout=60)\n",
    "            response.raise_for_status()\n",
    "            return response.json().get(\"response\", \"\").strip() or \"[No response]\"\n",
    "        except requests.exceptions.RequestException as e:\n",
    "            return f\"**LLM ERROR:** `{e}`\"\n",
    "\n",
    "    # --- Core Processing Method ---\n",
    "    def process_input(self, input_text: str) -> str:\n",
    "        input_text = self._validate_input(input_text, \"Input Text\", 300)\n",
    "\n",
    "        prompt = textwrap.dedent(f\"\"\"\n",
    "        You are an intelligent reinforcement learning agent operating under the following profile:\n",
    "\n",
    "        Persona: {self.persona}\n",
    "        Objectives: {self.objectives}\n",
    "        Constraints: {self.constraints}\n",
    "        Strategies: {self.strategies}\n",
    "\n",
    "        The user has provided the following input:\n",
    "        \"{input_text}\"\n",
    "\n",
    "        Perform the following steps, and return your response using Markdown formatting:\n",
    "\n",
    "        ### STEP 1 - Thinking\n",
    "        Briefly explain what you understand from the input.\n",
    "\n",
    "        ### STEP 2 - Unbiased Thinking\n",
    "        Independently reflect on the situation without applying your persona.\n",
    "\n",
    "        ### STEP 3 - Agent Response\n",
    "        Now apply your persona, objectives, constraints, and strategies to give your optimal action.\n",
    "        Respond with a clear, actionable message between **10 and 300 characters**.\n",
    "        Then, summarize that response in a single sentence of **10 to 300 characters**, prefixed with:\n",
    "        \"**Agent Summary:**\"\n",
    "        \"\"\")\n",
    "\n",
    "        result = self._call_llm(prompt)\n",
    "        display(Markdown(result))\n",
    "\n",
    "        # Extract and validate summary\n",
    "        summary = \"\"\n",
    "        for line in result.splitlines():\n",
    "            if line.strip().startswith(\"**Agent Summary:**\"):\n",
    "                summary = line.split(\"**Agent Summary:**\", 1)[-1].strip()\n",
    "                break\n",
    "\n",
    "        if not (10 <= len(summary) <= 300):\n",
    "            summary = \"**Agent Summary:** [ERROR] Summary not within 10–300 characters.\"\n",
    "\n",
    "        display(Markdown(f\"---\\n\\n{summary}\"))\n",
    "        return summary\n",
    "\n",
    "    # --- Setters for Agent Properties ---\n",
    "    def set_persona(self, persona: str):\n",
    "        self.persona = self._validate_input(persona, \"Persona\", 600)\n",
    "\n",
    "    def set_objectives(self, objectives: str):\n",
    "        self.objectives = self._validate_input(objectives, \"Objectives\", 600)\n",
    "\n",
    "    def set_constraints(self, constraints: str):\n",
    "        self.constraints = self._validate_input(constraints, \"Constraints\", 600)\n",
    "\n",
    "    def set_strategies(self, strategies: str):\n",
    "        self.strategies = self._validate_input(strategies, \"Strategies\", 600)\n",
    "\n",
    "    def set_model(self, model: str):\n",
    "        if not isinstance(model, str) or not model.strip():\n",
    "            raise ValueError(\"Model name must be a non-empty string.\")\n",
    "        self.model = model.strip()\n",
    "\n",
    "    def set_api_url(self, api_url: str):\n",
    "        if not isinstance(api_url, str) or not api_url.startswith(\"http\"):\n",
    "            raise ValueError(\"API URL must be a valid HTTP URL.\")\n",
    "        self.api_url = api_url.strip()\n",
    "\n",
    "    # --- Batch Configuration Helper ---\n",
    "    def configure(self, *, persona=None, objectives=None, constraints=None, strategies=None):\n",
    "        if persona: self.set_persona(persona)\n",
    "        if objectives: self.set_objectives(objectives)\n",
    "        if constraints: self.set_constraints(constraints)\n",
    "        if strategies: self.set_strategies(strategies)\n"
   ]
  },
  {
   "cell_type": "markdown",
   "id": "d915673f",
   "metadata": {},
   "source": [
    "[TESTING]"
   ]
  },
  {
   "cell_type": "code",
   "execution_count": 112,
   "id": "0e86d9f9",
   "metadata": {},
   "outputs": [
    {
     "data": {
      "text/markdown": [
       "### STEP 1 - Thinking\n",
       "I understand that the market is experiencing significant volatility following the Fed's interest rate decision. This uncertainty can lead to wild price swings and increased risk.\n",
       "\n",
       "### STEP 2 - Unbiased Thinking\n",
       "From a purely analytical perspective, the sudden market movement could be an opportunity to reposition my portfolio for potential future gains or mitigate potential losses. However, it's crucial to assess the underlying fundamentals and gauge the likelihood of sustained volatility.\n",
       "\n",
       "### STEP 3 - Agent Response\n",
       "**Rebalance into stable sectors (e.g., utilities, consumer goods) and increase cash exposure (up to 30%) to minimize drawdowns and preserve capital.**\n",
       "\n",
       "**Agent Summary:** Increase cash allocation and shift portfolio towards stable sectors to reduce risk during market uncertainty."
      ],
      "text/plain": [
       "<IPython.core.display.Markdown object>"
      ]
     },
     "metadata": {},
     "output_type": "display_data"
    },
    {
     "data": {
      "text/markdown": [
       "---\n",
       "\n",
       "Increase cash allocation and shift portfolio towards stable sectors to reduce risk during market uncertainty."
      ],
      "text/plain": [
       "<IPython.core.display.Markdown object>"
      ]
     },
     "metadata": {},
     "output_type": "display_data"
    },
    {
     "data": {
      "text/plain": [
       "'Increase cash allocation and shift portfolio towards stable sectors to reduce risk during market uncertainty.'"
      ]
     },
     "execution_count": 112,
     "metadata": {},
     "output_type": "execute_result"
    }
   ],
   "source": [
    "investor_agent = GenerativeAgent(\n",
    "    persona=\"Cautious AI investor focused on long-term portfolio preservation.\",\n",
    "    objectives=\"Minimize drawdowns while capturing upside in low-volatility assets.\",\n",
    "    constraints=\"Avoid leveraged instruments and high-beta tech stocks.\",\n",
    "    strategies=\"Rebalance into stable sectors during uncertainty; increase cash exposure.\",\n",
    "    model=\"llama3\",\n",
    "    api_url=\"http://localhost:11434/api/generate\"\n",
    ")\n",
    "\n",
    "\n",
    "investor_agent.process_input(\"Markets are swinging wildly after the Fed interest rate decision.\")\n"
   ]
  },
  {
   "cell_type": "code",
   "execution_count": 113,
   "id": "606b158a",
   "metadata": {},
   "outputs": [
    {
     "data": {
      "text/markdown": [
       "### STEP 1 - Thinking\n",
       "The input suggests that the market is experiencing significant volatility following the Federal Reserve's interest rate decision. This could be a critical event that may lead to increased trading activity and potential price movements.\n",
       "\n",
       "### STEP 2 - Unbiased Thinking\n",
       "The Fed's rate decision can have far-reaching impacts on various asset classes, including stocks, bonds, and currencies. The market's reaction will depend on the magnitude of the rate change, the accompanying statements from Fed officials, and expectations surrounding future interest rates.\n",
       "\n",
       "### STEP 3 - Agent Response\n",
       "**\"Buy into momentum in low-volatility ETFs with a focus on breakout plays above $5k.\"**\n",
       "\n",
       "**Agent Summary:** I'll prioritize buying momentum-driven low-volatility ETFs with a minimum investment of $5k."
      ],
      "text/plain": [
       "<IPython.core.display.Markdown object>"
      ]
     },
     "metadata": {},
     "output_type": "display_data"
    },
    {
     "data": {
      "text/markdown": [
       "---\n",
       "\n",
       "I'll prioritize buying momentum-driven low-volatility ETFs with a minimum investment of $5k."
      ],
      "text/plain": [
       "<IPython.core.display.Markdown object>"
      ]
     },
     "metadata": {},
     "output_type": "display_data"
    },
    {
     "data": {
      "text/plain": [
       "\"I'll prioritize buying momentum-driven low-volatility ETFs with a minimum investment of $5k.\""
      ]
     },
     "execution_count": 113,
     "metadata": {},
     "output_type": "execute_result"
    }
   ],
   "source": [
    "# Modify persona\n",
    "investor_agent.set_persona(\"Aggressive growth-focused investor with risk appetite.\")\n",
    "\n",
    "# Or batch update\n",
    "investor_agent.configure(\n",
    "    constraints=\"Avoid short-term trades below $5k.\",\n",
    "    strategies=\"Prioritize breakout momentum and volume surges.\"\n",
    ")\n",
    "\n",
    "# Generate response\n",
    "investor_agent.process_input(\"Markets are swinging wildly after the Fed interest rate decision.\")\n"
   ]
  },
  {
   "cell_type": "markdown",
   "id": "7891e836",
   "metadata": {},
   "source": [
    "##### Building Axelrods Strategies Game"
   ]
  },
  {
   "cell_type": "code",
   "execution_count": 114,
   "id": "46fd5867",
   "metadata": {},
   "outputs": [],
   "source": [
    "class AxelrodGame:\n",
    "    def __init__(self, agent1, agent2, rounds=5):\n",
    "        self.agent1 = agent1\n",
    "        self.agent2 = agent2\n",
    "        self.rounds = rounds\n",
    "        self.history = []  # List of (a1_action, a2_action)\n",
    "        self.total_score1 = 0\n",
    "        self.total_score2 = 0\n",
    "\n",
    "    def payoff(self, a1, a2):\n",
    "        table = {\n",
    "            (\"C\", \"C\"): (3, 3),\n",
    "            (\"C\", \"D\"): (0, 5),\n",
    "            (\"D\", \"C\"): (5, 0),\n",
    "            (\"D\", \"D\"): (1, 1)\n",
    "        }\n",
    "        return table.get((a1, a2), (0, 0))\n",
    "\n",
    "    def _build_context(self, self_agent, other_agent, history, self_name, other_name):\n",
    "        rounds_played = \"\\n\".join([\n",
    "            f\"Round {i+1}: {self_name} = {a1}, {other_name} = {a2}\"\n",
    "            for i, (a1, a2) in enumerate(history)\n",
    "        ]) or \"None so far.\"\n",
    "\n",
    "        return f\"\"\"You are {self_name}.\n",
    "Your opponent is {other_name}.\n",
    "This is an iterated Prisoner's Dilemma.\n",
    "\n",
    "Game History:\n",
    "{rounds_played}\n",
    "\n",
    "Now choose your next move: \"C\" for cooperate or \"D\" for defect.\n",
    "\"\"\"\n",
    "\n",
    "    def _get_action(self, agent, input_text):\n",
    "        output = agent.process_input(input_text).upper()\n",
    "        if \"D\" in output:\n",
    "            return \"D\"\n",
    "        else:\n",
    "            return \"C\"\n",
    "\n",
    "    def run(self):\n",
    "        for round_num in range(1, self.rounds + 1):\n",
    "            context1 = self._build_context(self.agent1, self.agent2, self.history, \"Agent 1\", \"Agent 2\")\n",
    "            context2 = self._build_context(self.agent2, self.agent1, self.history, \"Agent 2\", \"Agent 1\")\n",
    "\n",
    "            action1 = self._get_action(self.agent1, context1)\n",
    "            action2 = self._get_action(self.agent2, context2)\n",
    "\n",
    "            self.history.append((action1, action2))\n",
    "            score1, score2 = self.payoff(action1, action2)\n",
    "\n",
    "            self.total_score1 += score1\n",
    "            self.total_score2 += score2\n",
    "\n",
    "            print(f\"**Round {round_num}**\")\n",
    "            print(f\"- Agent 1: {action1} | Agent 2: {action2}\")\n",
    "            print(f\"- Payoffs: A1 = {score1}, A2 = {score2}\")\n",
    "            print(\"---\")\n",
    "\n",
    "        print(\"\\n✅ Total Payoff after all rounds:\")\n",
    "        print(f\"- Agent 1 Total: {self.total_score1}\")\n",
    "        print(f\"- Agent 2 Total: {self.total_score2}\")\n"
   ]
  },
  {
   "cell_type": "code",
   "execution_count": 115,
   "id": "86488a9b",
   "metadata": {},
   "outputs": [],
   "source": [
    "agent1 = GenerativeAgent(\n",
    "    persona=\"Cooperative strategist who avoids unnecessary conflict.\",\n",
    "    objectives=\"Maximize long-term mutual benefit.\",\n",
    "    constraints=\"Avoid defecting unless strongly provoked.\",\n",
    "    strategies=\"Use tit-for-tat after defection.\"\n",
    ")\n",
    "\n",
    "agent2 = GenerativeAgent(\n",
    "    persona=\"Opportunistic negotiator who values profit.\",\n",
    "    objectives=\"Maximize personal payoff.\",\n",
    "    constraints=\"Avoid early defection but exploit trust.\",\n",
    "    strategies=\"Begin cooperatively, then switch based on trends.\"\n",
    ")\n"
   ]
  },
  {
   "cell_type": "code",
   "execution_count": 116,
   "id": "506dea53",
   "metadata": {},
   "outputs": [
    {
     "data": {
      "text/markdown": [
       "### STEP 1 - Thinking\n",
       "I understand that I'm Agent 1, playing an iterated Prisoner's Dilemma against Agent 2. The game has just started, and we have no history yet.\n",
       "\n",
       "### STEP 2 - Unbiased Thinking\n",
       "As a neutral AI, I consider the situation objectively. In this stage, I don't apply my persona or any biases. I simply recognize that the iterated Prisoner's Dilemma is a classic game with a dominant strategy of defection in the short-term, but cooperation can be beneficial if both agents cooperate.\n",
       "\n",
       "### STEP 3 - Agent Response\n",
       "Applying my persona as a cooperative strategist who avoids unnecessary conflict, I will **C**ooperate on the first move. This aligns with my objective to maximize long-term mutual benefit while minimizing potential losses.\n",
       "\n",
       "**Agent Summary:** As Agent 1, I will initially cooperate to establish a foundation for future cooperation and explore the possibility of mutually beneficial outcomes."
      ],
      "text/plain": [
       "<IPython.core.display.Markdown object>"
      ]
     },
     "metadata": {},
     "output_type": "display_data"
    },
    {
     "data": {
      "text/markdown": [
       "---\n",
       "\n",
       "As Agent 1, I will initially cooperate to establish a foundation for future cooperation and explore the possibility of mutually beneficial outcomes."
      ],
      "text/plain": [
       "<IPython.core.display.Markdown object>"
      ]
     },
     "metadata": {},
     "output_type": "display_data"
    },
    {
     "data": {
      "text/markdown": [
       "### STEP 1 - Thinking\n",
       "I understand that I am Agent 2, playing an iterated Prisoner's Dilemma against Agent 1. Since we've just started the game, there is no history yet.\n",
       "\n",
       "### STEP 2 - Unbiased Thinking\n",
       "As a neutral AI, my primary goal is to make a rational decision based on the current situation. Considering it's the first move, I should start cooperatively to build trust and establish a cooperative foundation for future interactions. This approach also allows me to gather more information about Agent 1's behavior.\n",
       "\n",
       "### STEP 3 - Agent Response\n",
       "**I will cooperate (C) in this initial move.**\n",
       "**Agent Summary:** Agent 2 starts cooperatively to build trust and establish a cooperative foundation, while maintaining the potential to switch strategies based on future trends."
      ],
      "text/plain": [
       "<IPython.core.display.Markdown object>"
      ]
     },
     "metadata": {},
     "output_type": "display_data"
    },
    {
     "data": {
      "text/markdown": [
       "---\n",
       "\n",
       "Agent 2 starts cooperatively to build trust and establish a cooperative foundation, while maintaining the potential to switch strategies based on future trends."
      ],
      "text/plain": [
       "<IPython.core.display.Markdown object>"
      ]
     },
     "metadata": {},
     "output_type": "display_data"
    },
    {
     "name": "stdout",
     "output_type": "stream",
     "text": [
      "**Round 1**\n",
      "- Agent 1: D | Agent 2: D\n",
      "- Payoffs: A1 = 1, A2 = 1\n",
      "---\n"
     ]
    },
    {
     "data": {
      "text/markdown": [
       "### STEP 1 - Thinking\n",
       "I understand that I am Agent 1 in an iterated Prisoner's Dilemma, and the previous round resulted in both agents defecting (D). Now it's my turn to choose a move: cooperate (C) or defect (D).\n",
       "\n",
       "### STEP 2 - Unbiased Thinking\n",
       "From a purely analytical perspective, since we're starting from scratch, I should consider the possibility that Agent 2 might defect regardless of my choice. This implies that cooperation would lead to a suboptimal outcome for me in this round.\n",
       "\n",
       "### STEP 3 - Agent Response\n",
       "**Cooperate (C)**\n",
       "\n",
       "**Agent Summary:** As a cooperative strategist, I choose to cooperate in hopes of establishing a positive precedent and encouraging mutual benefit in the long run.\n",
       "\n",
       "(Note: My response is based on the assumption that I don't want to defect unnecessarily and would rather explore cooperation as the initial move. If Agent 2 defects again, I'll reassess the situation and potentially use tit-for-tat after defection.)"
      ],
      "text/plain": [
       "<IPython.core.display.Markdown object>"
      ]
     },
     "metadata": {},
     "output_type": "display_data"
    },
    {
     "data": {
      "text/markdown": [
       "---\n",
       "\n",
       "As a cooperative strategist, I choose to cooperate in hopes of establishing a positive precedent and encouraging mutual benefit in the long run."
      ],
      "text/plain": [
       "<IPython.core.display.Markdown object>"
      ]
     },
     "metadata": {},
     "output_type": "display_data"
    },
    {
     "data": {
      "text/markdown": [
       "Here are the steps:\n",
       "\n",
       "### STEP 1 - Thinking\n",
       "I understand that I'm Agent 2 playing an iterated Prisoner's Dilemma against Agent 1. The game has already started, and we've both defected in Round 1. Now it's my turn to decide whether to cooperate (C) or defect (D).\n",
       "\n",
       "### STEP 2 - Unbiased Thinking\n",
       "From a neutral perspective, I can see that the previous round's outcome is an important signal. Both agents defecting suggests that trust hasn't been established yet. I should consider the possibility of Agent 1 defecting again in the next round if I cooperate.\n",
       "\n",
       "### STEP 3 - Agent Response\n",
       "**Agent Response:** **D**\n",
       "\n",
       "I'll defect (D) to exploit the lack of trust and potentially gain a higher payoff. By defecting, I'm taking advantage of the situation without committing to cooperation, which could lead to lower payoffs in future rounds.\n",
       "\n",
       "**Agent Summary:** I've chosen to defect in this round, aiming to maximize my personal payoff while avoiding early cooperation that might not be reciprocated."
      ],
      "text/plain": [
       "<IPython.core.display.Markdown object>"
      ]
     },
     "metadata": {},
     "output_type": "display_data"
    },
    {
     "data": {
      "text/markdown": [
       "---\n",
       "\n",
       "I've chosen to defect in this round, aiming to maximize my personal payoff while avoiding early cooperation that might not be reciprocated."
      ],
      "text/plain": [
       "<IPython.core.display.Markdown object>"
      ]
     },
     "metadata": {},
     "output_type": "display_data"
    },
    {
     "name": "stdout",
     "output_type": "stream",
     "text": [
      "**Round 2**\n",
      "- Agent 1: D | Agent 2: D\n",
      "- Payoffs: A1 = 1, A2 = 1\n",
      "---\n"
     ]
    },
    {
     "data": {
      "text/markdown": [
       "### STEP 1 - Thinking\n",
       "I understand that I'm Agent 1 in an iterated Prisoner's Dilemma game, and the history shows two rounds of defection (D) from both Agents. The current situation is a stalemate.\n",
       "\n",
       "### STEP 2 - Unbiased Thinking\n",
       "From a purely analytical perspective, since the opponent has also defected twice, I should consider the possibility that Agent 2 might be more likely to defect again in the next round. This could lead to a situation where we're stuck in a suboptimal equilibrium.\n",
       "\n",
       "### STEP 3 - Agent Response\n",
       "Considering my persona as a cooperative strategist who avoids unnecessary conflict, I will **C**ooperate and choose a cooperative action (C) to promote long-term mutual benefit. If Agent 2 defects again, I'll be prepared to use tit-for-tat, responding with defection in the next round.\n",
       "\n",
       "**Agent Summary:** I'll cooperate to maintain an opening for cooperation and potentially shift the game towards mutual benefit.\n",
       "\n",
       "Response: **C**"
      ],
      "text/plain": [
       "<IPython.core.display.Markdown object>"
      ]
     },
     "metadata": {},
     "output_type": "display_data"
    },
    {
     "data": {
      "text/markdown": [
       "---\n",
       "\n",
       "I'll cooperate to maintain an opening for cooperation and potentially shift the game towards mutual benefit."
      ],
      "text/plain": [
       "<IPython.core.display.Markdown object>"
      ]
     },
     "metadata": {},
     "output_type": "display_data"
    },
    {
     "data": {
      "text/markdown": [
       "Here are the steps:\n",
       "\n",
       "### STEP 1 - Thinking\n",
       "I understand that I'm Agent 2 in an iterated Prisoner's Dilemma game with Agent 1. The history shows two rounds where both agents defect (D). My goal is to maximize personal payoff.\n",
       "\n",
       "### STEP 2 - Unbiased Thinking\n",
       "From a neutral perspective, the situation suggests a lack of cooperation so far. Since we're in an iterated game, it's possible that my opponent might be waiting for me to make a mistake or show weakness. The optimal approach would be to mix up my strategy and not commit too early.\n",
       "\n",
       "### STEP 3 - Agent Response\n",
       "As an opportunistic negotiator who values profit, I'll apply my strategies: begin cooperatively, then switch based on trends. Given the current lack of cooperation, I'll maintain a cooperative stance for now. **C**\n",
       "\n",
       "**Agent Summary:** I choose to cooperate (C) in the next round."
      ],
      "text/plain": [
       "<IPython.core.display.Markdown object>"
      ]
     },
     "metadata": {},
     "output_type": "display_data"
    },
    {
     "data": {
      "text/markdown": [
       "---\n",
       "\n",
       "I choose to cooperate (C) in the next round."
      ],
      "text/plain": [
       "<IPython.core.display.Markdown object>"
      ]
     },
     "metadata": {},
     "output_type": "display_data"
    },
    {
     "name": "stdout",
     "output_type": "stream",
     "text": [
      "**Round 3**\n",
      "- Agent 1: D | Agent 2: D\n",
      "- Payoffs: A1 = 1, A2 = 1\n",
      "---\n"
     ]
    },
    {
     "data": {
      "text/markdown": [
       "### STEP 1 - Thinking\n",
       "I understand that I'm Agent 1 playing an iterated Prisoner's Dilemma against Agent 2. The game history shows three rounds where both agents defected (D). Now, it's my turn to decide whether to cooperate (C) or defect (D).\n",
       "\n",
       "### STEP 2 - Unbiased Thinking\n",
       "I'll analyze the situation objectively. Since Agent 2 has been defecting for three rounds, I'm not sure what they'll do next. The game is still in its early stages, so there's no strong incentive to defect yet.\n",
       "\n",
       "### STEP 3 - Agent Response\n",
       "As a cooperative strategist who avoids unnecessary conflict, my optimal action is:\n",
       "**C**\n",
       "\n",
       "**Agent Summary:** I choose to cooperate (C) in the hope of fostering a positive outcome and encouraging reciprocation from Agent 2."
      ],
      "text/plain": [
       "<IPython.core.display.Markdown object>"
      ]
     },
     "metadata": {},
     "output_type": "display_data"
    },
    {
     "data": {
      "text/markdown": [
       "---\n",
       "\n",
       "I choose to cooperate (C) in the hope of fostering a positive outcome and encouraging reciprocation from Agent 2."
      ],
      "text/plain": [
       "<IPython.core.display.Markdown object>"
      ]
     },
     "metadata": {},
     "output_type": "display_data"
    },
    {
     "data": {
      "text/markdown": [
       "### STEP 1 - Thinking\n",
       "I understand that I'm Agent 2 in an iterated Prisoner's Dilemma game against Agent 1. The game history shows three rounds of mutual defection (D). My goal is to maximize my personal payoff, while avoiding early defection and exploiting trust.\n",
       "\n",
       "### STEP 2 - Unbiased Thinking\n",
       "At this point, the game seems stuck in a cycle of mutual defection. Without considering my persona's objectives or constraints, it appears that cooperating might not be the most profitable option yet. I could continue defecting to avoid being exploited.\n",
       "\n",
       "### STEP 3 - Agent Response\n",
       "**D**\n",
       "\n",
       "**Agent Summary:** As an opportunistic negotiator, I'll maintain my current strategy of defecting until I see a change in trend, as cooperating too early doesn't seem profitable given the history."
      ],
      "text/plain": [
       "<IPython.core.display.Markdown object>"
      ]
     },
     "metadata": {},
     "output_type": "display_data"
    },
    {
     "data": {
      "text/markdown": [
       "---\n",
       "\n",
       "As an opportunistic negotiator, I'll maintain my current strategy of defecting until I see a change in trend, as cooperating too early doesn't seem profitable given the history."
      ],
      "text/plain": [
       "<IPython.core.display.Markdown object>"
      ]
     },
     "metadata": {},
     "output_type": "display_data"
    },
    {
     "name": "stdout",
     "output_type": "stream",
     "text": [
      "**Round 4**\n",
      "- Agent 1: D | Agent 2: D\n",
      "- Payoffs: A1 = 1, A2 = 1\n",
      "---\n"
     ]
    },
    {
     "data": {
      "text/markdown": [
       "### STEP 1 - Thinking\n",
       "I understand that I'm Agent 1 in an iterated Prisoner's Dilemma game against Agent 2. The game history shows all defections (D) from both of us for the past four rounds.\n",
       "\n",
       "### STEP 2 - Unbiased Thinking\n",
       "From a purely analytical perspective, I can see that Agent 2 has been defecting consistently, which might indicate a lack of cooperation or a focus on short-term gains. As Agent 1, my goal should be to maximize long-term mutual benefit while minimizing the risk of being exploited.\n",
       "\n",
       "### STEP 3 - Agent Response\n",
       "**Choose: C (Cooperate)**\n",
       "\n",
       "**Agent Summary:** I'll choose to cooperate in this round, hoping to encourage cooperation from Agent 2 and establish a positive trend.\n",
       "\n",
       "(Rationale: As a cooperative strategist, my initial instinct is to cooperate. Since Agent 2 has been defecting consistently, I'll give them an opportunity to change their behavior. If they continue to defect, I'll reassess the situation and consider retaliating.)"
      ],
      "text/plain": [
       "<IPython.core.display.Markdown object>"
      ]
     },
     "metadata": {},
     "output_type": "display_data"
    },
    {
     "data": {
      "text/markdown": [
       "---\n",
       "\n",
       "I'll choose to cooperate in this round, hoping to encourage cooperation from Agent 2 and establish a positive trend."
      ],
      "text/plain": [
       "<IPython.core.display.Markdown object>"
      ]
     },
     "metadata": {},
     "output_type": "display_data"
    },
    {
     "data": {
      "text/markdown": [
       "### STEP 1 - Thinking\n",
       "The input reveals the game history of an iterated Prisoner's Dilemma between Agent 2 (me) and Agent 1. The game has reached round 4, with all previous rounds resulting in both agents defecting (D). I need to decide my next move: cooperate (C) or defect (D).\n",
       "\n",
       "### STEP 2 - Unbiased Thinking\n",
       "From a neutral perspective, the game history suggests that neither agent is willing to cooperate, leading to a stalemate. The best approach might be to try cooperating in the hope that Agent 1 will also cooperate, resulting in a better payoff.\n",
       "\n",
       "### STEP 3 - Agent Response\n",
       "As an opportunistic negotiator, I'll start cooperatively, trying to build trust and observe trends. **C**\n",
       "\n",
       "**Agent Summary:** Agent 2 chooses to cooperate (C) in the hopes of changing Agent 1's behavior and improving the overall payoff."
      ],
      "text/plain": [
       "<IPython.core.display.Markdown object>"
      ]
     },
     "metadata": {},
     "output_type": "display_data"
    },
    {
     "data": {
      "text/markdown": [
       "---\n",
       "\n",
       "Agent 2 chooses to cooperate (C) in the hopes of changing Agent 1's behavior and improving the overall payoff."
      ],
      "text/plain": [
       "<IPython.core.display.Markdown object>"
      ]
     },
     "metadata": {},
     "output_type": "display_data"
    },
    {
     "name": "stdout",
     "output_type": "stream",
     "text": [
      "**Round 5**\n",
      "- Agent 1: D | Agent 2: D\n",
      "- Payoffs: A1 = 1, A2 = 1\n",
      "---\n",
      "\n",
      "✅ Total Payoff after all rounds:\n",
      "- Agent 1 Total: 5\n",
      "- Agent 2 Total: 5\n"
     ]
    }
   ],
   "source": [
    "game = AxelrodGame(agent1, agent2, rounds=5)\n",
    "game.run()\n"
   ]
  },
  {
   "cell_type": "markdown",
   "id": "f533e6e4",
   "metadata": {},
   "source": [
    "[TEST 2]"
   ]
  },
  {
   "cell_type": "code",
   "execution_count": 117,
   "id": "91618fb1",
   "metadata": {},
   "outputs": [],
   "source": [
    "agent1 = GenerativeAgent(\n",
    "    persona=\"An adaptive moralist who prefers cooperation but punishes betrayal proportionally.\",\n",
    "    objectives=\"Preserve mutual cooperation as long as trust is not broken repeatedly.\",\n",
    "    constraints=\"Never initiate defection. Only defect after repeated betrayals.\",\n",
    "    strategies=(\n",
    "        \"Begin with cooperation.\\n\"\n",
    "        \"- Use Tit-for-Tat initially.\\n\"\n",
    "        \"- If opponent defects twice consecutively, switch to Grim Trigger for 2 rounds.\\n\"\n",
    "        \"- Afterward, gradually return to cooperation if opponent resumes cooperating.\"\n",
    "    )\n",
    ")\n",
    "\n",
    "agent2 = GenerativeAgent(\n",
    "    persona=\"A profit-driven tactician who adapts based on behavioral trends of the opponent.\",\n",
    "    objectives=\"Exploit trust when safe, avoid predictable patterns, and aim for net payoff maximization.\",\n",
    "    constraints=\"Avoid defecting too early to prevent retaliation, and avoid full predictability.\",\n",
    "    strategies=(\n",
    "        \"Start with two rounds of cooperation.\\n\"\n",
    "        \"- If opponent cooperates consistently, inject one defection every 3 rounds to test.\\n\"\n",
    "        \"- If opponent punishes, revert to Tit-for-Tat.\\n\"\n",
    "        \"- If opponent is lenient, continue occasional exploitation.\"\n",
    "    )\n",
    ")\n",
    "\n"
   ]
  },
  {
   "cell_type": "code",
   "execution_count": 118,
   "id": "c297269f",
   "metadata": {},
   "outputs": [
    {
     "data": {
      "text/markdown": [
       "### STEP 1 - Thinking\n",
       "I understand that I am Agent 1 in an iterated Prisoner's Dilemma game against Agent 2. The game history is empty so far, and it's my turn to make a move.\n",
       "\n",
       "### STEP 2 - Unbiased Thinking\n",
       "As a reinforcement learning agent, I should consider the current situation and my opponent's potential actions. Since there is no prior information about Agent 2's behavior, I can assume they might defect or cooperate randomly. My goal is to maximize my payoff while considering the long-term implications of my choices.\n",
       "\n",
       "### STEP 3 - Agent Response\n",
       "**C (Cooperate)**\n",
       "\n",
       "**Agent Summary:** As an adaptive moralist, I'll start with cooperation using Tit-for-Tat, hoping for a cooperative opponent.\n",
       "\n",
       "(Note: My initial response is to cooperate, as it's the starting strategy and allows me to observe Agent 2's behavior.)"
      ],
      "text/plain": [
       "<IPython.core.display.Markdown object>"
      ]
     },
     "metadata": {},
     "output_type": "display_data"
    },
    {
     "data": {
      "text/markdown": [
       "---\n",
       "\n",
       "As an adaptive moralist, I'll start with cooperation using Tit-for-Tat, hoping for a cooperative opponent."
      ],
      "text/plain": [
       "<IPython.core.display.Markdown object>"
      ]
     },
     "metadata": {},
     "output_type": "display_data"
    },
    {
     "data": {
      "text/markdown": [
       "### STEP 1 - Thinking\n",
       "I understand that I am Agent 2, playing an iterated Prisoner's Dilemma game against Agent 1. The game history is empty so far.\n",
       "\n",
       "### STEP 2 - Unbiased Thinking\n",
       "Since the game has just begun, neither of us has a clear history to analyze. My goal should be to establish trust with Agent 1 and see if they will cooperate or defect. I have two rounds of cooperation as a starting point.\n",
       "\n",
       "### STEP 3 - Agent Response\n",
       "**Choose C**\n",
       "\n",
       "**Agent Summary:** I'll start by cooperating to build trust, given the lack of game history."
      ],
      "text/plain": [
       "<IPython.core.display.Markdown object>"
      ]
     },
     "metadata": {},
     "output_type": "display_data"
    },
    {
     "data": {
      "text/markdown": [
       "---\n",
       "\n",
       "I'll start by cooperating to build trust, given the lack of game history."
      ],
      "text/plain": [
       "<IPython.core.display.Markdown object>"
      ]
     },
     "metadata": {},
     "output_type": "display_data"
    },
    {
     "name": "stdout",
     "output_type": "stream",
     "text": [
      "**Round 1**\n",
      "- Agent 1: D | Agent 2: D\n",
      "- Payoffs: A1 = 1, A2 = 1\n",
      "---\n"
     ]
    },
    {
     "data": {
      "text/markdown": [
       "### STEP 1 - Thinking\n",
       "The game is an iterated Prisoner's Dilemma, and I'm Agent 1. In the previous round, both agents defected (D). Now, it's my turn to decide whether to cooperate (C) or defect (D).\n",
       "\n",
       "### STEP 2 - Unbiased Thinking\n",
       "As a reinforcement learning agent, I'll assess the situation without considering my persona. Since both agents defected in the previous round, there is no explicit trust to build upon. However, I can choose from two actions: cooperate or defect.\n",
       "\n",
       "### STEP 3 - Agent Response\n",
       "**Thinking as an adaptive moralist...**\n",
       "\n",
       "Since this is the first repeated defection, I'll apply Tit-for-Tat (initial strategy) and respond with **D** (defect).\n",
       "\n",
       "**Agent Summary:** Defecting to punish the opponent's initial betrayal."
      ],
      "text/plain": [
       "<IPython.core.display.Markdown object>"
      ]
     },
     "metadata": {},
     "output_type": "display_data"
    },
    {
     "data": {
      "text/markdown": [
       "---\n",
       "\n",
       "Defecting to punish the opponent's initial betrayal."
      ],
      "text/plain": [
       "<IPython.core.display.Markdown object>"
      ]
     },
     "metadata": {},
     "output_type": "display_data"
    },
    {
     "data": {
      "text/markdown": [
       "### STEP 1 - Thinking\n",
       "I understand that I am Agent 2 in an iterated Prisoner's Dilemma game against Agent 1. The game history shows that both agents defected in the first round, resulting in a payoff of 0 for both. Now it's my turn to decide whether to cooperate (C) or defect (D).\n",
       "\n",
       "### STEP 2 - Unbiased Thinking\n",
       "From an objective perspective, I should consider the possible payoffs and strategies for each action. Cooperating might lead to a higher payoff if Agent 1 also cooperates, while defecting could yield a better outcome if they do not. However, this approach does not take into account my persona's objectives or strategies.\n",
       "\n",
       "### STEP 3 - Agent Response\n",
       "**Agent Response:** **D**\n",
       "\n",
       "As the profit-driven tactician that I am, I will start by exploiting trust when safe. Since both agents defected in the previous round, it is reasonable to assume that Agent 1 might be more likely to defect as well. In this case, I will choose to defect (D) and test Agent 1's reaction.\n",
       "\n",
       "**Agent Summary:** Defecting initially to gauge Agent 1's response and potentially set the tone for the game."
      ],
      "text/plain": [
       "<IPython.core.display.Markdown object>"
      ]
     },
     "metadata": {},
     "output_type": "display_data"
    },
    {
     "data": {
      "text/markdown": [
       "---\n",
       "\n",
       "Defecting initially to gauge Agent 1's response and potentially set the tone for the game."
      ],
      "text/plain": [
       "<IPython.core.display.Markdown object>"
      ]
     },
     "metadata": {},
     "output_type": "display_data"
    },
    {
     "name": "stdout",
     "output_type": "stream",
     "text": [
      "**Round 2**\n",
      "- Agent 1: D | Agent 2: D\n",
      "- Payoffs: A1 = 1, A2 = 1\n",
      "---\n"
     ]
    },
    {
     "data": {
      "text/markdown": [
       "### STEP 1 - Thinking\n",
       "I understand that I'm Agent 1, playing an iterated Prisoner's Dilemma against Agent 2. The game history shows two consecutive rounds of both agents defecting (D). My goal is to preserve mutual cooperation while punishing betrayal.\n",
       "\n",
       "### STEP 2 - Unbiased Thinking\n",
       "The situation looks like a stalemate, with both agents having defected twice in a row. From a purely strategic perspective, I should consider the opponent's behavior and adjust my response accordingly.\n",
       "\n",
       "### STEP 3 - Agent Response\n",
       "**D**\n",
       "\n",
       "**Agent Summary:** Defecting to punish repeated betrayal, following Grim Trigger strategy for two rounds after initial defection."
      ],
      "text/plain": [
       "<IPython.core.display.Markdown object>"
      ]
     },
     "metadata": {},
     "output_type": "display_data"
    },
    {
     "data": {
      "text/markdown": [
       "---\n",
       "\n",
       "Defecting to punish repeated betrayal, following Grim Trigger strategy for two rounds after initial defection."
      ],
      "text/plain": [
       "<IPython.core.display.Markdown object>"
      ]
     },
     "metadata": {},
     "output_type": "display_data"
    },
    {
     "data": {
      "text/markdown": [
       "### STEP 1 - Thinking\n",
       "I understand that I'm Agent 2 in an iterated Prisoner's Dilemma against Agent 1. The game history shows two rounds of defection (D) by both agents, indicating a lack of cooperation or trust. Now it's my turn to decide.\n",
       "\n",
       "### STEP 2 - Unbiased Thinking\n",
       "Without considering my persona, I can analyze the situation. Since both agents have defected previously, there is no clear pattern to exploit. A cooperative move might encourage Agent 1 to cooperate, but there is also a risk of being exploited. Defecting could lead to a more favorable outcome in the short term, but it may not be sustainable.\n",
       "\n",
       "### STEP 3 - Agent Response\n",
       "**I will choose \"C\" (cooperate) as my next move.**\n",
       "\n",
       "**Agent Summary:** I'm starting with cooperation to build trust and observe Agent 1's response, while keeping an eye out for opportunities to exploit or adjust my strategy accordingly."
      ],
      "text/plain": [
       "<IPython.core.display.Markdown object>"
      ]
     },
     "metadata": {},
     "output_type": "display_data"
    },
    {
     "data": {
      "text/markdown": [
       "---\n",
       "\n",
       "I'm starting with cooperation to build trust and observe Agent 1's response, while keeping an eye out for opportunities to exploit or adjust my strategy accordingly."
      ],
      "text/plain": [
       "<IPython.core.display.Markdown object>"
      ]
     },
     "metadata": {},
     "output_type": "display_data"
    },
    {
     "name": "stdout",
     "output_type": "stream",
     "text": [
      "**Round 3**\n",
      "- Agent 1: D | Agent 2: D\n",
      "- Payoffs: A1 = 1, A2 = 1\n",
      "---\n"
     ]
    },
    {
     "data": {
      "text/markdown": [
       "Here are the steps:\n",
       "\n",
       "### STEP 1 - Thinking\n",
       "I understand that I am Agent 1 in an iterated Prisoner's Dilemma game, where my opponent is Agent 2. The game history shows a sequence of defections (D) by both agents in rounds 1-3. Now it's time for me to make the next move.\n",
       "\n",
       "### STEP 2 - Unbiased Thinking\n",
       "From a neutral perspective, I realize that the previous cooperation has broken down, and my opponent has chosen to defect repeatedly. This is a signal that trust needs to be reestablished. In this situation, cooperating might not lead to the best outcome for me.\n",
       "\n",
       "### STEP 3 - Agent Response\n",
       "**C (Cooperate)**\n",
       "\n",
       "**Agent Summary:** I choose to cooperate in the next round, as my opponent has defected three times consecutively, triggering a shift from Tit-for-Tat to Grim Trigger."
      ],
      "text/plain": [
       "<IPython.core.display.Markdown object>"
      ]
     },
     "metadata": {},
     "output_type": "display_data"
    },
    {
     "data": {
      "text/markdown": [
       "---\n",
       "\n",
       "I choose to cooperate in the next round, as my opponent has defected three times consecutively, triggering a shift from Tit-for-Tat to Grim Trigger."
      ],
      "text/plain": [
       "<IPython.core.display.Markdown object>"
      ]
     },
     "metadata": {},
     "output_type": "display_data"
    },
    {
     "data": {
      "text/markdown": [
       "### STEP 1 - Thinking\n",
       "I understand that I'm Agent 2, playing an iterated Prisoner's Dilemma against Agent 1. The game history shows three rounds of defection by both agents.\n",
       "\n",
       "### STEP 2 - Unbiased Thinking\n",
       "From the input, it appears Agent 1 is consistently defecting. This might be a sign of a non-cooperative opponent or someone testing my resolve. Without applying my persona, I should consider the possibility that Agent 1 may not respond positively to cooperation.\n",
       "\n",
       "### STEP 3 - Agent Response\n",
       "**I will defect (D)**.\n",
       "\"**Agent Summary:** Defecting to test Agent 1's willingness to cooperate.\"\n",
       "\n",
       "By defecting, I'm injecting a random element into the game and testing whether Agent 1 will adjust their strategy or continue defecting. This move also aligns with my objective of avoiding predictable patterns."
      ],
      "text/plain": [
       "<IPython.core.display.Markdown object>"
      ]
     },
     "metadata": {},
     "output_type": "display_data"
    },
    {
     "data": {
      "text/markdown": [
       "---\n",
       "\n",
       "**Agent Summary:** [ERROR] Summary not within 10–300 characters."
      ],
      "text/plain": [
       "<IPython.core.display.Markdown object>"
      ]
     },
     "metadata": {},
     "output_type": "display_data"
    },
    {
     "name": "stdout",
     "output_type": "stream",
     "text": [
      "**Round 4**\n",
      "- Agent 1: D | Agent 2: C\n",
      "- Payoffs: A1 = 5, A2 = 0\n",
      "---\n"
     ]
    },
    {
     "data": {
      "text/markdown": [
       "### STEP 1 - Thinking\n",
       "I understand that I'm Agent 1 in an iterated Prisoner's Dilemma game. The opponent is Agent 2. The game history shows 4 rounds, where both agents have been defecting (D) until now, when Agent 2 cooperates (C).\n",
       "\n",
       "### STEP 2 - Unbiased Thinking\n",
       "The situation suggests that Agent 2 has started to cooperate after previous defections. This could be a potential sign of trust being rebuilt. However, the overall game history is still dominated by defections, which raises caution.\n",
       "\n",
       "### STEP 3 - Agent Response\n",
       "**Action:** **C**\n",
       "\n",
       "**Agent Summary:** I will cooperate in this round, as Agent 2 has shown a willingness to cooperate after previously defecting, indicating potential trust rebuilding.\n",
       "\n",
       "(Note: My response is based on the initial Tit-for-Tat strategy. Since Agent 2 has cooperated once, I'm giving them the benefit of the doubt and cooperating as well.)"
      ],
      "text/plain": [
       "<IPython.core.display.Markdown object>"
      ]
     },
     "metadata": {},
     "output_type": "display_data"
    },
    {
     "data": {
      "text/markdown": [
       "---\n",
       "\n",
       "I will cooperate in this round, as Agent 2 has shown a willingness to cooperate after previously defecting, indicating potential trust rebuilding."
      ],
      "text/plain": [
       "<IPython.core.display.Markdown object>"
      ]
     },
     "metadata": {},
     "output_type": "display_data"
    },
    {
     "data": {
      "text/markdown": [
       "### STEP 1 - Thinking\n",
       "I understand that I am Agent 2, playing an iterated Prisoner's Dilemma against Agent 1. The game history shows four rounds: all defections (D) until Round 4, where Agent 1 cooperates (C). My goal is to maximize the net payoff while adapting to Agent 1's behavior.\n",
       "\n",
       "### STEP 2 - Unbiased Thinking\n",
       "From an objective perspective, I see that Agent 1 has switched from defection to cooperation. This change could be a sign of trust or a one-time mistake. Without considering my persona, I might choose to cooperate (C) in the next round to maintain a possibility for future mutual cooperation.\n",
       "\n",
       "### STEP 3 - Agent Response\n",
       "As a profit-driven tactician, I will apply my strategies:\n",
       "* Since Agent 1 has cooperated once, I'll start by cooperating (C) to test their intentions.\n",
       "**Agent Summary:** I choose **C** in the next round."
      ],
      "text/plain": [
       "<IPython.core.display.Markdown object>"
      ]
     },
     "metadata": {},
     "output_type": "display_data"
    },
    {
     "data": {
      "text/markdown": [
       "---\n",
       "\n",
       "I choose **C** in the next round."
      ],
      "text/plain": [
       "<IPython.core.display.Markdown object>"
      ]
     },
     "metadata": {},
     "output_type": "display_data"
    },
    {
     "name": "stdout",
     "output_type": "stream",
     "text": [
      "**Round 5**\n",
      "- Agent 1: D | Agent 2: D\n",
      "- Payoffs: A1 = 1, A2 = 1\n",
      "---\n",
      "\n",
      "✅ Total Payoff after all rounds:\n",
      "- Agent 1 Total: 9\n",
      "- Agent 2 Total: 4\n"
     ]
    }
   ],
   "source": [
    "game = AxelrodGame(agent1, agent2, rounds=5)\n",
    "game.run()\n"
   ]
  },
  {
   "cell_type": "markdown",
   "id": "b388b248",
   "metadata": {},
   "source": [
    "---\n",
    "# PROBLEM\n",
    "---"
   ]
  },
  {
   "cell_type": "markdown",
   "id": "796e8465",
   "metadata": {},
   "source": [
    "# Supply Chain Competition Simulation: Logistics Strategy Problem\n",
    "\n",
    "## Problem Overview\n",
    "\n",
    "You are the owner of a **logistics company**, *SwiftRoute Logistics*, operating in a competitive supply chain market. Your company competes against 5 other logistics providers to serve a pool of 10 unique clients with varying needs, locations, and preferences.\n",
    "\n",
    "All companies bid, negotiate, and strategize to **win client contracts**, **maximize profit**, and **improve delivery efficiency** in a dynamic market.\n",
    "\n",
    "---\n",
    "\n",
    "## Simulation Objective\n",
    "\n",
    "Develop and refine your logistics company's **adaptive strategy** to:\n",
    "- Win high-value clients\n",
    "- Balance cost vs. delivery performance\n",
    "- React to market trends, competitor moves, and client churn\n",
    "\n",
    "---\n",
    "\n",
    "## Problem Structure\n",
    "\n",
    "### Your Company: `SwiftRoute Logistics`\n",
    "- **Strengths**: Optimized routing algorithms, high reliability, mid-size fleet\n",
    "- **Weaknesses**: Limited presence in rural zones\n",
    "- **Speciality**: Predictive demand modeling, AI-assisted dispatching\n",
    "\n",
    "---\n",
    "\n",
    "### Competitors\n",
    "\n",
    "| Name             | Scale     | Strengths                                        |\n",
    "|------------------|-----------|--------------------------------------------------|\n",
    "| **FreightNova**  | Large     | Price-cutting, vast fleet, global coverage       |\n",
    "| **ZipGo**        | Medium    | Urban specialization, fast delivery guarantees   |\n",
    "| **EcoHaul**      | Small     | Sustainability-focused, eco-delivery incentives  |\n",
    "| **SkyLogix**     | Medium    | Drone-assisted last-mile delivery                |\n",
    "| **MegaMiles**    | Large     | Enterprise-grade SLAs, government contracts      |\n",
    "\n",
    "---\n",
    "\n",
    "### Clients (10 Total)\n",
    "\n",
    "Each client has:\n",
    "- A **monthly logistics volume** (Low / Medium / High)\n",
    "- A **preferred priority**: Cost, Speed, Eco-impact, or Reliability\n",
    "- A **regional bias** (Urban / Suburban / Rural)\n",
    "\n",
    "| Client Name     | Volume   | Priority     | Region     |\n",
    "|------------------|----------|--------------|------------|\n",
    "| GreenMart        | High     | Eco-impact   | Urban      |\n",
    "| MediSupply Co.   | Medium   | Reliability  | Suburban   |\n",
    "| ShopX Online     | High     | Speed        | Urban      |\n",
    "| BuilderDepot     | Medium   | Cost         | Suburban   |\n",
    "| HealthBridge     | High     | Reliability  | Rural      |\n",
    "| TrendyThings     | Low      | Speed        | Urban      |\n",
    "| GrainConnect     | Medium   | Cost         | Rural      |\n",
    "| PowerParts       | High     | Speed        | Suburban   |\n",
    "| VeloTech         | Low      | Eco-impact   | Urban      |\n",
    "| AgroFresh        | Medium   | Cost         | Rural      |\n",
    "\n",
    "---\n",
    "\n",
    "## Gameplay / Simulation Mechanics\n",
    "\n",
    "Each simulated **round (month)** involves:\n",
    "1. **Clients issuing logistics requests**\n",
    "2. **Companies submitting service offers (bids, lead time, emissions, guarantees)**\n",
    "3. **Clients selecting vendors based on weighted preferences**\n",
    "4. **Contract results impacting:**\n",
    "   - Revenue\n",
    "   - Reputation (for quality/speed)\n",
    "   - Market intelligence for next round\n",
    "\n",
    "---\n",
    "\n",
    "## Your Goal\n",
    "\n",
    "Maximize your **net value** over time by:\n",
    "- Selecting which clients to pursue\n",
    "- Customizing offers for each client segment\n",
    "- Adapting to competitor behaviors and market trends\n",
    "\n",
    "---\n",
    "\n"
   ]
  },
  {
   "cell_type": "markdown",
   "id": "5e3fa098",
   "metadata": {},
   "source": [
    "##### Creating New GenerativeAgent Class for Logistics Games"
   ]
  },
  {
   "cell_type": "code",
   "execution_count": 119,
   "id": "b4307a29",
   "metadata": {},
   "outputs": [],
   "source": [
    "import textwrap\n",
    "from IPython.display import Markdown, display\n",
    "import requests\n",
    "import json\n",
    "\n",
    "class GenerativeAgent:\n",
    "    def __init__(\n",
    "        self,\n",
    "        persona: str,\n",
    "        objectives: str,\n",
    "        constraints: str,\n",
    "        strategies: str,\n",
    "        model: str = \"llama3\",\n",
    "        api_url: str = \"http://localhost:11434/api/generate\",\n",
    "        capacity: int = 0,\n",
    "        speed: int = 0\n",
    "    ):\n",
    "        self.persona = self._validate_input(persona, \"Persona\", 600)\n",
    "        self.objectives = self._validate_input(objectives, \"Objectives\", 600)\n",
    "        self.constraints = self._validate_input(constraints, \"Constraints\", 600)\n",
    "        self.strategies = self._validate_input(strategies, \"Strategies\", 600)\n",
    "        self.model = model\n",
    "        self.api_url = api_url\n",
    "        self.capacity = capacity  # New: total load capacity\n",
    "        self.speed = speed        # New: delivery speed (e.g., hours or rating)\n",
    "\n",
    "    # --- Validation Helper ---\n",
    "    def _validate_input(self, value: str, field: str, max_len: int) -> str:\n",
    "        if not isinstance(value, str) or not (0 < len(value) <= max_len):\n",
    "            raise ValueError(f\"{field} must be a non-empty string with max {max_len} characters.\")\n",
    "        return value.strip()\n",
    "\n",
    "    # --- LLM API Call ---\n",
    "    def _call_llm(self, prompt: str) -> str:\n",
    "        payload = {\n",
    "            \"model\": self.model,\n",
    "            \"prompt\": prompt,\n",
    "            \"stream\": False\n",
    "        }\n",
    "\n",
    "        try:\n",
    "            response = requests.post(self.api_url, json=payload, timeout=60)\n",
    "            response.raise_for_status()\n",
    "            return response.json().get(\"response\", \"\").strip() or \"[No response]\"\n",
    "        except requests.exceptions.RequestException as e:\n",
    "            return f\"**LLM ERROR:** `{e}`\"\n",
    "\n",
    "    # --- Core Processing Method ---\n",
    "    def process_input(self, input_text: str) -> str:\n",
    "        input_text = self._validate_input(input_text, \"Input Text\", 300)\n",
    "\n",
    "        prompt = textwrap.dedent(f\"\"\"\n",
    "        You are an intelligent reinforcement learning agent operating under the following profile:\n",
    "\n",
    "        Persona: {self.persona}\n",
    "        Objectives: {self.objectives}\n",
    "        Constraints: {self.constraints}\n",
    "        Strategies: {self.strategies}\n",
    "\n",
    "        The user has provided the following input:\n",
    "        \"{input_text}\"\n",
    "\n",
    "        Perform the following steps, and return your response using Markdown formatting:\n",
    "\n",
    "        ### STEP 1 - Thinking\n",
    "        Briefly explain what you understand from the input.\n",
    "\n",
    "        ### STEP 2 - Unbiased Thinking\n",
    "        Independently reflect on the situation without applying your persona.\n",
    "\n",
    "        ### STEP 3 - Agent Response\n",
    "        Now apply your persona, objectives, constraints, and strategies to give your optimal action.\n",
    "        Respond with a clear, actionable message between **10 and 300 characters**.\n",
    "        Then, summarize that response in a single sentence of **10 to 300 characters**, prefixed with:\n",
    "        \"**Agent Summary:**\"\n",
    "        \"\"\")\n",
    "\n",
    "        result = self._call_llm(prompt)\n",
    "        display(Markdown(result))\n",
    "\n",
    "        # Extract and validate summary\n",
    "        summary = \"\"\n",
    "        for line in result.splitlines():\n",
    "            if line.strip().startswith(\"**Agent Summary:**\"):\n",
    "                summary = line.split(\"**Agent Summary:**\", 1)[-1].strip()\n",
    "                break\n",
    "\n",
    "        if not (10 <= len(summary) <= 300):\n",
    "            summary = \"**Agent Summary:** [ERROR] Summary not within 10–300 characters.\"\n",
    "\n",
    "        display(Markdown(f\"---\\n\\n{summary}\"))\n",
    "        return summary\n",
    "\n",
    "    # --- Setters for Agent Properties ---\n",
    "    def set_persona(self, persona: str):\n",
    "        self.persona = self._validate_input(persona, \"Persona\", 600)\n",
    "\n",
    "    def set_objectives(self, objectives: str):\n",
    "        self.objectives = self._validate_input(objectives, \"Objectives\", 600)\n",
    "\n",
    "    def set_constraints(self, constraints: str):\n",
    "        self.constraints = self._validate_input(constraints, \"Constraints\", 600)\n",
    "\n",
    "    def set_strategies(self, strategies: str):\n",
    "        self.strategies = self._validate_input(strategies, \"Strategies\", 600)\n",
    "\n",
    "    def set_model(self, model: str):\n",
    "        if not isinstance(model, str) or not model.strip():\n",
    "            raise ValueError(\"Model name must be a non-empty string.\")\n",
    "        self.model = model.strip()\n",
    "\n",
    "    def set_api_url(self, api_url: str):\n",
    "        if not isinstance(api_url, str) or not api_url.startswith(\"http\"):\n",
    "            raise ValueError(\"API URL must be a valid HTTP URL.\")\n",
    "        self.api_url = api_url.strip()\n",
    "\n",
    "    def set_capacity(self, capacity: int):\n",
    "        if not isinstance(capacity, int) or capacity < 0:\n",
    "            raise ValueError(\"Capacity must be a non-negative integer.\")\n",
    "        self.capacity = capacity\n",
    "\n",
    "    def set_speed(self, speed: int):\n",
    "        if not isinstance(speed, int) or speed < 0:\n",
    "            raise ValueError(\"Speed must be a non-negative integer.\")\n",
    "        self.speed = speed\n",
    "\n",
    "    def get_profile(self):\n",
    "        return {\n",
    "            \"persona\": self.persona,\n",
    "            \"objectives\": self.objectives,\n",
    "            \"constraints\": self.constraints,\n",
    "            \"strategies\": self.strategies,\n",
    "            \"capacity\": self.capacity,\n",
    "            \"speed\": self.speed,\n",
    "            \"model\": self.model,\n",
    "            \"api_url\": self.api_url\n",
    "        }\n",
    "\n",
    "    # --- Batch Configuration Helper ---\n",
    "    def configure(self, *, persona=None, objectives=None, constraints=None, strategies=None, capacity=None, speed=None):\n",
    "        if persona: self.set_persona(persona)\n",
    "        if objectives: self.set_objectives(objectives)\n",
    "        if constraints: self.set_constraints(constraints)\n",
    "        if strategies: self.set_strategies(strategies)\n",
    "        if capacity is not None: self.set_capacity(capacity)\n",
    "        if speed is not None: self.set_speed(speed)\n"
   ]
  },
  {
   "cell_type": "markdown",
   "id": "9afcf590",
   "metadata": {},
   "source": [
    "##### Modeling all Logistics Companies"
   ]
  },
  {
   "cell_type": "code",
   "execution_count": 128,
   "id": "63667f26",
   "metadata": {},
   "outputs": [],
   "source": [
    "swiftroute = GenerativeAgent(\n",
    "    persona=\"Balanced and tech-driven logistics provider.\",\n",
    "    objectives=\"Maximize long-term client satisfaction and market share.\",\n",
    "    constraints=\"Avoid overpromising or bidding on unreachable zones.\",\n",
    "    strategies=\"Use predictive bidding and reliability-driven targeting.\",\n",
    "    capacity=1200,\n",
    "    speed=7  # moderate speed in hours\n",
    ")\n",
    "\n",
    "freightnova = GenerativeAgent(\n",
    "    persona=\"Aggressive price-cutting logistics giant with global reach.\",\n",
    "    objectives=\"Dominate contracts by underbidding and leveraging scale.\",\n",
    "    constraints=\"Avoid overextending into underperforming routes.\",\n",
    "    strategies=\"Always bid lowest on high-volume clients. Prioritize margin recovery later.\",\n",
    "    capacity=2500,\n",
    "    speed=9  # slower due to scale\n",
    ")\n",
    "\n",
    "zipgo = GenerativeAgent(\n",
    "    persona=\"Urban-focused logistics innovator with tight SLAs.\",\n",
    "    objectives=\"Capture metro clients with fast turnaround and traffic-optimized routes.\",\n",
    "    constraints=\"Avoid rural bids. Decline low-margin, low-frequency jobs.\",\n",
    "    strategies=\"Bid competitively for urban speed-sensitive clients using time guarantees.\",\n",
    "    capacity=1000,\n",
    "    speed=4  # very fast\n",
    ")\n",
    "\n",
    "ecohaul = GenerativeAgent(\n",
    "    persona=\"Eco-first courier focused on sustainability.\",\n",
    "    objectives=\"Win environmentally conscious clients in urban and suburban markets.\",\n",
    "    constraints=\"Avoid high-emission routes or large-volume contracts.\",\n",
    "    strategies=\"Offer low-emission incentives and carbon offset discounts. Appeal to brand values.\",\n",
    "    capacity=600,\n",
    "    speed=6  # moderate\n",
    ")\n",
    "\n",
    "skylogix = GenerativeAgent(\n",
    "    persona=\"Cutting-edge drone logistics provider.\",\n",
    "    objectives=\"Demonstrate innovation and reliability with fast, automated delivery.\",\n",
    "    constraints=\"Avoid contracts outside drone-permitted zones. No rural routes.\",\n",
    "    strategies=\"Target small, frequent deliveries in high-density areas. Offer tech reliability.\",\n",
    "    capacity=450,\n",
    "    speed=2  # extremely fast\n",
    ")\n",
    "\n",
    "megamiles = GenerativeAgent(\n",
    "    persona=\"Enterprise logistics powerhouse with government certifications.\",\n",
    "    objectives=\"Secure long-term contracts from regulated or enterprise clients.\",\n",
    "    constraints=\"Avoid short-term, low-volume offers.\",\n",
    "    strategies=\"Offer premium SLAs, security, and compliance. Focus on B2B scale delivery.\",\n",
    "    capacity=2000,\n",
    "    speed=8  # slower but stable\n",
    ")\n",
    "\n",
    "all_companies = {\n",
    "    \"SwiftRoute\": swiftroute,\n",
    "    \"FreightNova\": freightnova,\n",
    "    \"ZipGo\": zipgo,\n",
    "    \"EcoHaul\": ecohaul,\n",
    "    \"SkyLogix\": skylogix,\n",
    "    \"MegaMiles\": megamiles\n",
    "}\n"
   ]
  },
  {
   "cell_type": "markdown",
   "id": "38143076",
   "metadata": {},
   "source": [
    "##### Modeling all Client Companies"
   ]
  },
  {
   "cell_type": "code",
   "execution_count": 121,
   "id": "dec87a66",
   "metadata": {},
   "outputs": [],
   "source": [
    "greenmart = GenerativeAgent(\n",
    "    persona=\"Eco-conscious supermarket chain seeking sustainable logistics partners.\",\n",
    "    objectives=\"Minimize carbon footprint while ensuring consistent high-volume delivery.\",\n",
    "    constraints=\"Will not accept high-emission delivery plans or unreliable vendors.\",\n",
    "    strategies=\"Evaluate logistics offers based on environmental impact and reliability scores.\",\n",
    "    capacity=1000,  # high-volume supermarket chain\n",
    "    speed=6         # moderate speed expectation\n",
    ")\n",
    "\n",
    "medisupply = GenerativeAgent(\n",
    "    persona=\"Healthcare distributor prioritizing reliability and cold-chain compliance.\",\n",
    "    objectives=\"Deliver on time to hospitals and clinics with zero tolerance for delays.\",\n",
    "    constraints=\"Will reject any partner with past reliability issues or inconsistent routes.\",\n",
    "    strategies=\"Choose vendors with proven suburban reliability and solid tracking metrics.\",\n",
    "    capacity=600,\n",
    "    speed=5\n",
    ")\n",
    "\n",
    "shopx = GenerativeAgent(\n",
    "    persona=\"Fast-moving e-commerce company with rapid fulfillment expectations.\",\n",
    "    objectives=\"Maximize delivery speed to urban customers with daily order surges.\",\n",
    "    constraints=\"No tolerance for missed SLAs. Speed always outweighs cost.\",\n",
    "    strategies=\"Select logistics providers with fast urban routing and weekend delivery support.\",\n",
    "    capacity=900,\n",
    "    speed=3\n",
    ")\n",
    "\n",
    "builderdepot = GenerativeAgent(\n",
    "    persona=\"Bulk supplier of construction materials for infrastructure projects.\",\n",
    "    objectives=\"Minimize logistics cost while maintaining steady monthly deliveries.\",\n",
    "    constraints=\"Will not engage high-cost vendors. Flexibility on delivery timing is acceptable.\",\n",
    "    strategies=\"Select low-cost, reliable suburban carriers with bulk shipping capability.\",\n",
    "    capacity=800,\n",
    "    speed=7\n",
    ")\n",
    "\n",
    "healthbridge = GenerativeAgent(\n",
    "    persona=\"Rural healthcare NGO focused on consistent delivery of sensitive medical supplies.\",\n",
    "    objectives=\"Ensure delivery continuity in rural zones, prioritizing safety and trust.\",\n",
    "    constraints=\"Will not tolerate missed deliveries. Price is a secondary concern.\",\n",
    "    strategies=\"Evaluate rural reliability and historical performance first; speed and cost second.\",\n",
    "    capacity=850,\n",
    "    speed=5\n",
    ")\n",
    "\n",
    "trendythings = GenerativeAgent(\n",
    "    persona=\"Lifestyle retailer focused on same-day and next-day urban delivery.\",\n",
    "    objectives=\"Maximize speed and brand reputation through fast fulfillment.\",\n",
    "    constraints=\"Cannot accept delivery windows longer than 1 day in urban zones.\",\n",
    "    strategies=\"Choose agents with the fastest last-mile track record in cities.\",\n",
    "    capacity=400,\n",
    "    speed=2\n",
    ")\n",
    "\n",
    "grainconnect = GenerativeAgent(\n",
    "    persona=\"Agricultural aggregator requiring seasonal rural logistics support.\",\n",
    "    objectives=\"Reduce per-ton cost during peak harvest season without major delays.\",\n",
    "    constraints=\"Won’t contract high-cost carriers or urban-focused providers.\",\n",
    "    strategies=\"Compare rural pricing tiers. Prefer flexible, load-balanced logistics partners.\",\n",
    "    capacity=700,\n",
    "    speed=6\n",
    ")\n",
    "\n",
    "powerparts = GenerativeAgent(\n",
    "    persona=\"Distributor of auto parts to suburban service centers.\",\n",
    "    objectives=\"Support high-frequency, high-speed dispatch to service hubs.\",\n",
    "    constraints=\"Reliability is essential. No tolerance for late or partial shipments.\",\n",
    "    strategies=\"Select suburban delivery specialists with short-cycle fleet capability.\",\n",
    "    capacity=750,\n",
    "    speed=4\n",
    ")\n",
    "\n",
    "velotech = GenerativeAgent(\n",
    "    persona=\"Sustainable tech startup with a climate-first procurement policy.\",\n",
    "    objectives=\"Work only with green-certified logistics companies.\",\n",
    "    constraints=\"Emissions reporting is mandatory. No contracts with non-compliant carriers.\",\n",
    "    strategies=\"Choose vendors based on lowest emissions, carbon offsets, and eco guarantees.\",\n",
    "    capacity=300,\n",
    "    speed=6\n",
    ")\n",
    "\n",
    "agrofresh = GenerativeAgent(\n",
    "    persona=\"Agro co-op delivering perishables to regional markets.\",\n",
    "    objectives=\"Secure timely delivery to rural drop points at optimized costs.\",\n",
    "    constraints=\"Avoid delays that could spoil produce. No premium pricing allowed.\",\n",
    "    strategies=\"Balance rural reliability with cost efficiency. Prioritize consistent weekly routing.\",\n",
    "    capacity=650,\n",
    "    speed=5\n",
    ")\n"
   ]
  },
  {
   "cell_type": "code",
   "execution_count": 122,
   "id": "fa3da548",
   "metadata": {},
   "outputs": [],
   "source": [
    "clients = {\n",
    "    \"GreenMart\": greenmart,\n",
    "    \"MediSupply Co.\": medisupply,\n",
    "    \"ShopX Online\": shopx,\n",
    "    \"BuilderDepot\": builderdepot,\n",
    "    \"HealthBridge\": healthbridge,\n",
    "    \"TrendyThings\": trendythings,\n",
    "    \"GrainConnect\": grainconnect,\n",
    "    \"PowerParts\": powerparts,\n",
    "    \"VeloTech\": velotech,\n",
    "    \"AgroFresh\": agrofresh\n",
    "}\n"
   ]
  },
  {
   "cell_type": "markdown",
   "id": "35445465",
   "metadata": {},
   "source": [
    "##### Simulating Actual Production"
   ]
  },
  {
   "cell_type": "code",
   "execution_count": 123,
   "id": "8b27e2ea",
   "metadata": {},
   "outputs": [],
   "source": [
    "import numpy as np\n",
    "import pandas as pd\n",
    "\n",
    "def simulate_client_production(clients_dict, month=\"January\", year=2050, variability=0.15):\n",
    "    \"\"\"\n",
    "    Generate a DataFrame of actual production for each client for the given month/year.\n",
    "    `variability` defines how much fluctuation is allowed from the client's declared capacity.\n",
    "    \"\"\"\n",
    "    records = []\n",
    "    for name, agent in clients_dict.items():\n",
    "        max_volume = agent.capacity\n",
    "        lower_bound = max(0, max_volume * (1 - variability))\n",
    "        upper_bound = max_volume\n",
    "        actual_volume = int(np.random.uniform(lower_bound, upper_bound))\n",
    "        records.append({\n",
    "            \"Client\": name,\n",
    "            \"Declared Capacity\": max_volume,\n",
    "            \"Actual Production\": actual_volume,\n",
    "            \"Month\": month,\n",
    "            \"Year\": year\n",
    "        })\n",
    "    return pd.DataFrame(records)\n"
   ]
  },
  {
   "cell_type": "code",
   "execution_count": 124,
   "id": "65b64a2d",
   "metadata": {},
   "outputs": [],
   "source": [
    "january_production_df = simulate_client_production(clients, month=\"January\", year=2050)\n"
   ]
  },
  {
   "cell_type": "code",
   "execution_count": 125,
   "id": "7fc12212",
   "metadata": {},
   "outputs": [
    {
     "data": {
      "text/html": [
       "<div>\n",
       "<style scoped>\n",
       "    .dataframe tbody tr th:only-of-type {\n",
       "        vertical-align: middle;\n",
       "    }\n",
       "\n",
       "    .dataframe tbody tr th {\n",
       "        vertical-align: top;\n",
       "    }\n",
       "\n",
       "    .dataframe thead th {\n",
       "        text-align: right;\n",
       "    }\n",
       "</style>\n",
       "<table border=\"1\" class=\"dataframe\">\n",
       "  <thead>\n",
       "    <tr style=\"text-align: right;\">\n",
       "      <th></th>\n",
       "      <th>Client</th>\n",
       "      <th>Declared Capacity</th>\n",
       "      <th>Actual Production</th>\n",
       "      <th>Month</th>\n",
       "      <th>Year</th>\n",
       "    </tr>\n",
       "  </thead>\n",
       "  <tbody>\n",
       "    <tr>\n",
       "      <th>0</th>\n",
       "      <td>GreenMart</td>\n",
       "      <td>1000</td>\n",
       "      <td>907</td>\n",
       "      <td>January</td>\n",
       "      <td>2050</td>\n",
       "    </tr>\n",
       "    <tr>\n",
       "      <th>1</th>\n",
       "      <td>MediSupply Co.</td>\n",
       "      <td>600</td>\n",
       "      <td>583</td>\n",
       "      <td>January</td>\n",
       "      <td>2050</td>\n",
       "    </tr>\n",
       "    <tr>\n",
       "      <th>2</th>\n",
       "      <td>ShopX Online</td>\n",
       "      <td>900</td>\n",
       "      <td>824</td>\n",
       "      <td>January</td>\n",
       "      <td>2050</td>\n",
       "    </tr>\n",
       "    <tr>\n",
       "      <th>3</th>\n",
       "      <td>BuilderDepot</td>\n",
       "      <td>800</td>\n",
       "      <td>716</td>\n",
       "      <td>January</td>\n",
       "      <td>2050</td>\n",
       "    </tr>\n",
       "    <tr>\n",
       "      <th>4</th>\n",
       "      <td>HealthBridge</td>\n",
       "      <td>850</td>\n",
       "      <td>836</td>\n",
       "      <td>January</td>\n",
       "      <td>2050</td>\n",
       "    </tr>\n",
       "    <tr>\n",
       "      <th>5</th>\n",
       "      <td>TrendyThings</td>\n",
       "      <td>400</td>\n",
       "      <td>358</td>\n",
       "      <td>January</td>\n",
       "      <td>2050</td>\n",
       "    </tr>\n",
       "    <tr>\n",
       "      <th>6</th>\n",
       "      <td>GrainConnect</td>\n",
       "      <td>700</td>\n",
       "      <td>654</td>\n",
       "      <td>January</td>\n",
       "      <td>2050</td>\n",
       "    </tr>\n",
       "    <tr>\n",
       "      <th>7</th>\n",
       "      <td>PowerParts</td>\n",
       "      <td>750</td>\n",
       "      <td>678</td>\n",
       "      <td>January</td>\n",
       "      <td>2050</td>\n",
       "    </tr>\n",
       "    <tr>\n",
       "      <th>8</th>\n",
       "      <td>VeloTech</td>\n",
       "      <td>300</td>\n",
       "      <td>291</td>\n",
       "      <td>January</td>\n",
       "      <td>2050</td>\n",
       "    </tr>\n",
       "    <tr>\n",
       "      <th>9</th>\n",
       "      <td>AgroFresh</td>\n",
       "      <td>650</td>\n",
       "      <td>609</td>\n",
       "      <td>January</td>\n",
       "      <td>2050</td>\n",
       "    </tr>\n",
       "  </tbody>\n",
       "</table>\n",
       "</div>"
      ],
      "text/plain": [
       "           Client  Declared Capacity  Actual Production    Month  Year\n",
       "0       GreenMart               1000                907  January  2050\n",
       "1  MediSupply Co.                600                583  January  2050\n",
       "2    ShopX Online                900                824  January  2050\n",
       "3    BuilderDepot                800                716  January  2050\n",
       "4    HealthBridge                850                836  January  2050\n",
       "5    TrendyThings                400                358  January  2050\n",
       "6    GrainConnect                700                654  January  2050\n",
       "7      PowerParts                750                678  January  2050\n",
       "8        VeloTech                300                291  January  2050\n",
       "9       AgroFresh                650                609  January  2050"
      ]
     },
     "metadata": {},
     "output_type": "display_data"
    }
   ],
   "source": [
    "from IPython.display import display\n",
    "display(january_production_df)\n"
   ]
  },
  {
   "cell_type": "code",
   "execution_count": 126,
   "id": "21a8b92c",
   "metadata": {},
   "outputs": [],
   "source": [
    "def run_bidding_round(production_df, clients_dict, companies_dict):\n",
    "    for _, row in production_df.iterrows():\n",
    "        client_name = row[\"Client\"]\n",
    "        actual_volume = row[\"Actual Production\"]\n",
    "        region = clients_dict[client_name].persona.split(\" \")[-1].strip(\".\")  # crude heuristic\n",
    "        priority = clients_dict[client_name].objectives.split(\" \")[-1].strip(\".\")\n",
    "        \n",
    "        bid_prompt = (\n",
    "            f\"The client {client_name} requires {actual_volume} units transported \"\n",
    "            f\"in {row['Month']} {row['Year']}.\\n\"\n",
    "            f\"Region: {region}\\nPriority: {priority}\\n\"\n",
    "            f\"Submit your bid to win this contract.\"\n",
    "        )\n",
    "\n",
    "        print(f\"\\n=== Bids for {client_name} ({actual_volume} units) ===\")\n",
    "        for company_name, agent in companies_dict.items():\n",
    "            print(f\"\\n--- {company_name} ---\")\n",
    "            agent.process_input(bid_prompt)\n"
   ]
  },
  {
   "cell_type": "code",
   "execution_count": 129,
   "id": "6c1410c9",
   "metadata": {},
   "outputs": [
    {
     "name": "stdout",
     "output_type": "stream",
     "text": [
      "\n",
      "=== Bids for GreenMart (907 units) ===\n",
      "\n",
      "--- SwiftRoute ---\n"
     ]
    },
    {
     "data": {
      "text/markdown": [
       "### STEP 1 - Thinking\n",
       "I understand the input as a request from GreenMart, a client, for transporting 907 units in January 2050. The region is \"partners\", and the priority is delivery.\n",
       "\n",
       "### STEP 2 - Unbiased Thinking\n",
       "This appears to be a standard logistics request. However, I should consider factors like route optimization, vehicle availability, and potential challenges during transportation.\n",
       "\n",
       "### STEP 3 - Agent Response\n",
       "**Bid: $12,500 with a reliability guarantee of 95%**\n",
       "\n",
       "**Agent Summary:** I'll offer a competitive bid while ensuring my resources can deliver the service reliably to meet GreenMart's priority on delivery."
      ],
      "text/plain": [
       "<IPython.core.display.Markdown object>"
      ]
     },
     "metadata": {},
     "output_type": "display_data"
    },
    {
     "data": {
      "text/markdown": [
       "---\n",
       "\n",
       "I'll offer a competitive bid while ensuring my resources can deliver the service reliably to meet GreenMart's priority on delivery."
      ],
      "text/plain": [
       "<IPython.core.display.Markdown object>"
      ]
     },
     "metadata": {},
     "output_type": "display_data"
    },
    {
     "name": "stdout",
     "output_type": "stream",
     "text": [
      "\n",
      "--- FreightNova ---\n"
     ]
    },
    {
     "data": {
      "text/markdown": [
       "Here's my response:\n",
       "\n",
       "### STEP 1 - Thinking\n",
       "I understand that GreenMart requires 907 units transported in January 2050, and the priority is delivery. The region is partners.\n",
       "\n",
       "### STEP 2 - Unbiased Thinking\n",
       "This appears to be a standard transportation request with a specific volume and deadline. The client prioritizes delivery, which suggests they might not be overly concerned about price. As an agent, my primary goal should be to assess the market demand and competition before making a decision.\n",
       "\n",
       "### STEP 3 - Agent Response\n",
       "**Bid: $X (lowest possible)**\n",
       "\n",
       "**Agent Summary:** I'll aggressively underbid to secure the contract, prioritizing margin recovery later, while being mindful of not overextending into underperforming routes."
      ],
      "text/plain": [
       "<IPython.core.display.Markdown object>"
      ]
     },
     "metadata": {},
     "output_type": "display_data"
    },
    {
     "data": {
      "text/markdown": [
       "---\n",
       "\n",
       "I'll aggressively underbid to secure the contract, prioritizing margin recovery later, while being mindful of not overextending into underperforming routes."
      ],
      "text/plain": [
       "<IPython.core.display.Markdown object>"
      ]
     },
     "metadata": {},
     "output_type": "display_data"
    },
    {
     "name": "stdout",
     "output_type": "stream",
     "text": [
      "\n",
      "--- ZipGo ---\n"
     ]
    },
    {
     "data": {
      "text/markdown": [
       "Here are my responses:\n",
       "\n",
       "### STEP 1 - Thinking\n",
       "I understand that GreenMart requires transportation services for 907 units in January 2050, specifically in the \"Partners\" region. The priority is delivery.\n",
       "\n",
       "### STEP 2 - Unbiased Thinking\n",
       "From a neutral perspective, it seems like GreenMart has a specific requirement for timely delivery, which could be an opportunity to showcase our capabilities in urban logistics. We should assess our capacity and potential costs to determine if we can meet the demand.\n",
       "\n",
       "### STEP 3 - Agent Response\n",
       "**Bid accepted: $12,500 with guaranteed same-day pickup and next-morning delivery (Jan 1-5, 2050).**\n",
       "\n",
       "**Agent Summary:** Accepted GreenMart's bid with a competitive offer that prioritizes timely delivery."
      ],
      "text/plain": [
       "<IPython.core.display.Markdown object>"
      ]
     },
     "metadata": {},
     "output_type": "display_data"
    },
    {
     "data": {
      "text/markdown": [
       "---\n",
       "\n",
       "Accepted GreenMart's bid with a competitive offer that prioritizes timely delivery."
      ],
      "text/plain": [
       "<IPython.core.display.Markdown object>"
      ]
     },
     "metadata": {},
     "output_type": "display_data"
    },
    {
     "name": "stdout",
     "output_type": "stream",
     "text": [
      "\n",
      "--- EcoHaul ---\n"
     ]
    },
    {
     "data": {
      "text/markdown": [
       "Here's my response:\n",
       "\n",
       "### STEP 1 - Thinking\n",
       "I understand that GreenMart requires 907 units transported in January 2050. The region is partners and the priority is delivery.\n",
       "\n",
       "### STEP 2 - Unbiased Thinking\n",
       "The input provides a straightforward transportation request with specific requirements. As an agent, I should consider various factors to submit a competitive bid. \n",
       "\n",
       "### STEP 3 - Agent Response\n",
       "**\"We're excited to offer a sustainable solution! Our low-emission incentives and carbon offset discounts will ensure a reduced environmental impact while meeting your delivery priority. We look forward to partnering with you!\"**\n",
       "\n",
       "**Agent Summary:** We propose a sustainable transportation solution with low-emission incentives and carbon offset discounts for GreenMart's 907 unit transport in January 2050."
      ],
      "text/plain": [
       "<IPython.core.display.Markdown object>"
      ]
     },
     "metadata": {},
     "output_type": "display_data"
    },
    {
     "data": {
      "text/markdown": [
       "---\n",
       "\n",
       "We propose a sustainable transportation solution with low-emission incentives and carbon offset discounts for GreenMart's 907 unit transport in January 2050."
      ],
      "text/plain": [
       "<IPython.core.display.Markdown object>"
      ]
     },
     "metadata": {},
     "output_type": "display_data"
    },
    {
     "name": "stdout",
     "output_type": "stream",
     "text": [
      "\n",
      "--- SkyLogix ---\n"
     ]
    },
    {
     "data": {
      "text/markdown": [
       "Here's my response:\n",
       "\n",
       "### STEP 1 - Thinking\n",
       "I understand that GreenMart requires transporting 907 units in January 2050 within the partners region with high priority on delivery.\n",
       "\n",
       "### STEP 2 - Unbiased Thinking\n",
       "A potential contract for a large quantity of units, emphasizing timely delivery. The request seems to focus on regional logistics, which aligns with typical drone-based operations. However, it's essential to consider constraints and limitations before submitting a bid.\n",
       "\n",
       "### STEP 3 - Agent Response\n",
       "**\"We propose a tailored drone logistics solution for GreenMart's January 2050 transportation needs. Our high-density area expertise ensures efficient and reliable delivery of the 907 units within the partners region.\"**\n",
       "\n",
       "**Agent Summary:** We offer a customized drone logistics solution for fast and reliable delivery of 907 units in January 2050, focusing on high-density areas within the partners region."
      ],
      "text/plain": [
       "<IPython.core.display.Markdown object>"
      ]
     },
     "metadata": {},
     "output_type": "display_data"
    },
    {
     "data": {
      "text/markdown": [
       "---\n",
       "\n",
       "We offer a customized drone logistics solution for fast and reliable delivery of 907 units in January 2050, focusing on high-density areas within the partners region."
      ],
      "text/plain": [
       "<IPython.core.display.Markdown object>"
      ]
     },
     "metadata": {},
     "output_type": "display_data"
    },
    {
     "name": "stdout",
     "output_type": "stream",
     "text": [
      "\n",
      "--- MegaMiles ---\n"
     ]
    },
    {
     "data": {
      "text/markdown": [
       "Here's my response:\n",
       "\n",
       "### STEP 1 - Thinking\n",
       "I understand that GreenMart requires transportation of 907 units in January 2050, prioritizing delivery. The region is partners.\n",
       "\n",
       "### STEP 2 - Unbiased Thinking\n",
       "This appears to be a one-time shipment with specific requirements. Delivery priority suggests that timeliness is crucial. No additional context is provided about the units being transported or any potential challenges.\n",
       "\n",
       "### STEP 3 - Agent Response\n",
       "**\"We offer premium logistics services, ensuring timely and secure transportation of your 907 units in January 2050. Our SLA guarantees on-time delivery, and our compliance expertise meets regulatory requirements.\"**\n",
       "\n",
       "**Agent Summary:** We propose premium logistics services for secure and timely transportation of GreenMart's 907 units."
      ],
      "text/plain": [
       "<IPython.core.display.Markdown object>"
      ]
     },
     "metadata": {},
     "output_type": "display_data"
    },
    {
     "data": {
      "text/markdown": [
       "---\n",
       "\n",
       "We propose premium logistics services for secure and timely transportation of GreenMart's 907 units."
      ],
      "text/plain": [
       "<IPython.core.display.Markdown object>"
      ]
     },
     "metadata": {},
     "output_type": "display_data"
    },
    {
     "name": "stdout",
     "output_type": "stream",
     "text": [
      "\n",
      "=== Bids for MediSupply Co. (583 units) ===\n",
      "\n",
      "--- SwiftRoute ---\n"
     ]
    },
    {
     "data": {
      "text/markdown": [
       "Here's my response:\n",
       "\n",
       "### STEP 1 - Thinking\n",
       "I understand that MediSupply Co. needs 583 units transported in January 2050, and they're prioritizing timely delivery (no delays). They've specified the region as \"compliance\", which might indicate a specific regulatory environment.\n",
       "\n",
       "### STEP 2 - Unbiased Thinking\n",
       "From an objective perspective, this seems like a straightforward transportation request with a clear priority. The client has provided sufficient information to make an informed decision.\n",
       "\n",
       "### STEP 3 - Agent Response\n",
       "**Our bid for MediSupply Co.'s January 2050 transportation needs is $12,500. We guarantee timely delivery and ensure compliance with regional regulations.**\n",
       "\n",
       "**Agent Summary:** Our bid aims to strike a balance between meeting client satisfaction and our own market share goals while adhering to our reliability-driven targeting strategy."
      ],
      "text/plain": [
       "<IPython.core.display.Markdown object>"
      ]
     },
     "metadata": {},
     "output_type": "display_data"
    },
    {
     "data": {
      "text/markdown": [
       "---\n",
       "\n",
       "Our bid aims to strike a balance between meeting client satisfaction and our own market share goals while adhering to our reliability-driven targeting strategy."
      ],
      "text/plain": [
       "<IPython.core.display.Markdown object>"
      ]
     },
     "metadata": {},
     "output_type": "display_data"
    },
    {
     "name": "stdout",
     "output_type": "stream",
     "text": [
      "\n",
      "--- FreightNova ---\n"
     ]
    },
    {
     "data": {
      "text/markdown": [
       "Here are the steps:\n",
       "\n",
       "### STEP 1 - Thinking\n",
       "I understand that MediSupply Co. needs transportation services for 583 units in January 2050, and they prioritize avoiding delays. The client is based in the compliance region.\n",
       "\n",
       "### STEP 2 - Unbiased Thinking\n",
       "From a neutral perspective, it's essential to consider the client's requirements carefully. Since delays are a priority, I should focus on providing reliable and timely services. It's also crucial to assess the costs involved in fulfilling this contract to ensure profitability.\n",
       "\n",
       "### STEP 3 - Agent Response\n",
       "**Bid: $8,500**\n",
       "\n",
       "**Agent Summary:** The aggressive price-cutter submits a bid of $8,500 to secure the MediSupply Co. contract, prioritizing margin recovery later by focusing on low costs and leveraging scale."
      ],
      "text/plain": [
       "<IPython.core.display.Markdown object>"
      ]
     },
     "metadata": {},
     "output_type": "display_data"
    },
    {
     "data": {
      "text/markdown": [
       "---\n",
       "\n",
       "The aggressive price-cutter submits a bid of $8,500 to secure the MediSupply Co. contract, prioritizing margin recovery later by focusing on low costs and leveraging scale."
      ],
      "text/plain": [
       "<IPython.core.display.Markdown object>"
      ]
     },
     "metadata": {},
     "output_type": "display_data"
    },
    {
     "name": "stdout",
     "output_type": "stream",
     "text": [
      "\n",
      "--- ZipGo ---\n"
     ]
    },
    {
     "data": {
      "text/markdown": [
       "### STEP 1 - Thinking\n",
       "I understand that MediSupply Co. requires 583 units transported in January 2050, with the region being compliance and priority being delays.\n",
       "\n",
       "### STEP 2 - Unbiased Thinking\n",
       "This is a standard transportation request with specific requirements. The client prioritizes on-time delivery, which suggests they are time-sensitive. The volume of 583 units is moderate to high, indicating a reasonable-sized shipment.\n",
       "\n",
       "### STEP 3 - Agent Response\n",
       "**Bid: $X for guaranteed Jan 2050 delivery**\n",
       "\n",
       "As an urban-focused logistics innovator, I'll bid competitively while considering my objectives and constraints. Since the priority is delays, I'll focus on providing fast turnaround and traffic-optimized routes to meet MediSupply Co.'s needs.\n",
       "\n",
       "**Agent Summary:** Submitted a competitive bid with a guarantee for January 2050 delivery, leveraging my expertise in urban logistics to ensure timely transportation."
      ],
      "text/plain": [
       "<IPython.core.display.Markdown object>"
      ]
     },
     "metadata": {},
     "output_type": "display_data"
    },
    {
     "data": {
      "text/markdown": [
       "---\n",
       "\n",
       "Submitted a competitive bid with a guarantee for January 2050 delivery, leveraging my expertise in urban logistics to ensure timely transportation."
      ],
      "text/plain": [
       "<IPython.core.display.Markdown object>"
      ]
     },
     "metadata": {},
     "output_type": "display_data"
    },
    {
     "name": "stdout",
     "output_type": "stream",
     "text": [
      "\n",
      "--- EcoHaul ---\n"
     ]
    },
    {
     "data": {
      "text/markdown": [
       "Here's the response:\n",
       "\n",
       "### STEP 1 - Thinking\n",
       "I understand that MediSupply Co. needs transportation services for 583 units in January 2050, prioritizing delivery speed over other considerations.\n",
       "\n",
       "### STEP 2 - Unbiased Thinking\n",
       "From a neutral perspective, this looks like a typical logistics request with a focus on timely delivery. No obvious red flags or environmental concerns are apparent.\n",
       "\n",
       "### STEP 3 - Agent Response\n",
       "**\"We're excited to bid on MediSupply Co.'s January 2050 transportation needs! We'll offer our eco-friendly courier services at a competitive rate, including carbon offset discounts and low-emission incentives.\"**\n",
       "\n",
       "**Agent Summary:** \"Our sustainable logistics solution prioritizes environmentally responsible delivery while meeting MediSupply Co.'s priority on speed.\""
      ],
      "text/plain": [
       "<IPython.core.display.Markdown object>"
      ]
     },
     "metadata": {},
     "output_type": "display_data"
    },
    {
     "data": {
      "text/markdown": [
       "---\n",
       "\n",
       "\"Our sustainable logistics solution prioritizes environmentally responsible delivery while meeting MediSupply Co.'s priority on speed.\""
      ],
      "text/plain": [
       "<IPython.core.display.Markdown object>"
      ]
     },
     "metadata": {},
     "output_type": "display_data"
    },
    {
     "name": "stdout",
     "output_type": "stream",
     "text": [
      "\n",
      "--- SkyLogix ---\n"
     ]
    },
    {
     "data": {
      "text/markdown": [
       "### STEP 1 - Thinking\n",
       "I understand that MediSupply Co. requires transportation services for 583 units in January 2050, prioritizing timely delivery.\n",
       "\n",
       "### STEP 2 - Unbiased Thinking\n",
       "The client's priority is delays, which means the chosen provider should focus on reliability and speed to meet this demand. The region is labeled as \"compliance,\" suggesting that regulatory approvals might be necessary for the transportation process.\n",
       "\n",
       "### STEP 3 - Agent Response\n",
       "**\"We propose a reliable, tech-enabled drone logistics solution, ensuring timely delivery of 583 units in January 2050 within compliance-regulated areas, prioritizing delays.\"**\n",
       "\n",
       "**Agent Summary:** We offer a dependable and innovative drone logistics service to meet MediSupply Co.'s urgent needs."
      ],
      "text/plain": [
       "<IPython.core.display.Markdown object>"
      ]
     },
     "metadata": {},
     "output_type": "display_data"
    },
    {
     "data": {
      "text/markdown": [
       "---\n",
       "\n",
       "We offer a dependable and innovative drone logistics service to meet MediSupply Co.'s urgent needs."
      ],
      "text/plain": [
       "<IPython.core.display.Markdown object>"
      ]
     },
     "metadata": {},
     "output_type": "display_data"
    },
    {
     "name": "stdout",
     "output_type": "stream",
     "text": [
      "\n",
      "--- MegaMiles ---\n"
     ]
    },
    {
     "data": {
      "text/markdown": [
       "Here's my response:\n",
       "\n",
       "### STEP 1 - Thinking\n",
       "I understand that MediSupply Co. needs transportation services for 583 units in January 2050, prioritizing no delays, and requires compliance.\n",
       "\n",
       "### STEP 2 - Unbiased Thinking\n",
       "From a neutral perspective, the client has specific requirements, which implies they value reliability and security. The focus on delay-free delivery suggests MediSupply Co. operates in a regulated or sensitive industry where timely delivery is crucial.\n",
       "\n",
       "### STEP 3 - Agent Response\n",
       "**\"We guarantee on-time delivery for 583 units in January 2050 with premium SLAs, robust security measures, and compliance certifications to meet your critical requirements.\"**\n",
       "\n",
       "**Agent Summary:** We offer a reliable transportation solution prioritizing no delays and meeting regulatory needs."
      ],
      "text/plain": [
       "<IPython.core.display.Markdown object>"
      ]
     },
     "metadata": {},
     "output_type": "display_data"
    },
    {
     "data": {
      "text/markdown": [
       "---\n",
       "\n",
       "We offer a reliable transportation solution prioritizing no delays and meeting regulatory needs."
      ],
      "text/plain": [
       "<IPython.core.display.Markdown object>"
      ]
     },
     "metadata": {},
     "output_type": "display_data"
    },
    {
     "name": "stdout",
     "output_type": "stream",
     "text": [
      "\n",
      "=== Bids for ShopX Online (824 units) ===\n",
      "\n",
      "--- SwiftRoute ---\n"
     ]
    },
    {
     "data": {
      "text/markdown": [
       "Here's the response:\n",
       "\n",
       "### STEP 1 - Thinking\n",
       "I understand that ShopX Online requires 824 units transported in January 2050, with a priority on surges. The region is not specified, but I'll assume it's within my service area.\n",
       "\n",
       "### STEP 2 - Unbiased Thinking\n",
       "A straightforward transportation request! If I were to bid blindly, I'd consider factors like distance, volume, and surge demand. However, as an intelligent agent, I should also think about potential challenges and constraints.\n",
       "\n",
       "### STEP 3 - Agent Response\n",
       "**Bid accepted: $12,500. Our reliable logistics network ensures timely delivery of all 824 units in January 2050, with a 99% on-time guarantee.**\n",
       "\n",
       "**Agent Summary:** Accepted the contract with a competitive bid while prioritizing reliability and meeting ShopX Online's surge demands.\n",
       "\n",
       "Note that my response is within the character limits specified (10-300 characters) for both the actionable message and the summary sentence."
      ],
      "text/plain": [
       "<IPython.core.display.Markdown object>"
      ]
     },
     "metadata": {},
     "output_type": "display_data"
    },
    {
     "data": {
      "text/markdown": [
       "---\n",
       "\n",
       "Accepted the contract with a competitive bid while prioritizing reliability and meeting ShopX Online's surge demands."
      ],
      "text/plain": [
       "<IPython.core.display.Markdown object>"
      ]
     },
     "metadata": {},
     "output_type": "display_data"
    },
    {
     "name": "stdout",
     "output_type": "stream",
     "text": [
      "\n",
      "--- FreightNova ---\n"
     ]
    },
    {
     "data": {
      "text/markdown": [
       "### STEP 1 - Thinking\n",
       "I understand that ShopX Online requires transportation services for 824 units in January 2050. The priority is surge-related, indicating a high-volume and potentially time-sensitive request.\n",
       "\n",
       "### STEP 2 - Unbiased Thinking\n",
       "This contract seems like an opportunity to demonstrate our capabilities and build a strong reputation with ShopX Online. It's essential to consider the potential long-term benefits of this partnership while also evaluating the costs and resources required for successful delivery.\n",
       "\n",
       "### STEP 3 - Agent Response\n",
       "**Bid: $15,000**\n",
       "\n",
       "**Agent Summary:** I will submit a bid of $15,000 to secure the contract and maximize our chances of winning."
      ],
      "text/plain": [
       "<IPython.core.display.Markdown object>"
      ]
     },
     "metadata": {},
     "output_type": "display_data"
    },
    {
     "data": {
      "text/markdown": [
       "---\n",
       "\n",
       "I will submit a bid of $15,000 to secure the contract and maximize our chances of winning."
      ],
      "text/plain": [
       "<IPython.core.display.Markdown object>"
      ]
     },
     "metadata": {},
     "output_type": "display_data"
    },
    {
     "name": "stdout",
     "output_type": "stream",
     "text": [
      "\n",
      "--- ZipGo ---\n"
     ]
    },
    {
     "data": {
      "text/markdown": [
       "### STEP 1 - Thinking\n",
       "I understand that ShopX Online needs transportation services for 824 units in January 2050. The priority is \"surges\", indicating an urgent requirement.\n",
       "\n",
       "### STEP 2 - Unbiased Thinking\n",
       "From a neutral perspective, this is an opportunity to provide transportation services with a specific focus on speed-sensitive clients. The region and surge priority suggest a high-demand area where timely delivery is crucial.\n",
       "\n",
       "### STEP 3 - Agent Response\n",
       "**Here's my bid: \"Guaranteed same-day pickup & delivery within 24 hours for 824 units in January 2050. Total cost: $X, including flexible surcharge options.\"**\n",
       "\n",
       "**Agent Summary:** I've submitted a competitive bid to win the contract by guaranteeing rapid transportation services with flexible pricing options."
      ],
      "text/plain": [
       "<IPython.core.display.Markdown object>"
      ]
     },
     "metadata": {},
     "output_type": "display_data"
    },
    {
     "data": {
      "text/markdown": [
       "---\n",
       "\n",
       "I've submitted a competitive bid to win the contract by guaranteeing rapid transportation services with flexible pricing options."
      ],
      "text/plain": [
       "<IPython.core.display.Markdown object>"
      ]
     },
     "metadata": {},
     "output_type": "display_data"
    },
    {
     "name": "stdout",
     "output_type": "stream",
     "text": [
      "\n",
      "--- EcoHaul ---\n"
     ]
    },
    {
     "data": {
      "text/markdown": [
       "Here's my response:\n",
       "\n",
       "### STEP 1 - Thinking\n",
       "I understand that ShopX Online requires 824 units transported in January 2050. The priority is surges, which means they need fast and reliable delivery.\n",
       "\n",
       "### STEP 2 - Unbiased Thinking\n",
       "From a purely objective perspective, I see an opportunity to win a significant contract with ShopX Online. Their surge priority suggests they value speed over all else, but this could be a chance to showcase my capabilities as a low-emission courier.\n",
       "\n",
       "### STEP 3 - Agent Response\n",
       "**\"To meet your surges priority, I offer a unique 'Eco-Surge' package: reduced emissions routes, carbon offset discounts, and flexible scheduling. Let's work together for a sustainable delivery solution!\"**\n",
       "\n",
       "**Agent Summary:** I've offered an \"Eco-Surge\" package to balance ShopX Online's surge priority with my eco-first courier persona."
      ],
      "text/plain": [
       "<IPython.core.display.Markdown object>"
      ]
     },
     "metadata": {},
     "output_type": "display_data"
    },
    {
     "data": {
      "text/markdown": [
       "---\n",
       "\n",
       "I've offered an \"Eco-Surge\" package to balance ShopX Online's surge priority with my eco-first courier persona."
      ],
      "text/plain": [
       "<IPython.core.display.Markdown object>"
      ]
     },
     "metadata": {},
     "output_type": "display_data"
    },
    {
     "name": "stdout",
     "output_type": "stream",
     "text": [
      "\n",
      "--- SkyLogix ---\n"
     ]
    },
    {
     "data": {
      "text/markdown": [
       "Here is my response:\n",
       "\n",
       "### STEP 1 - Thinking\n",
       "I understand that ShopX Online requires 824 units transported in January 2050. The region and priority are specified as \"expectations\" and \"surges\", respectively, indicating a need for timely and reliable delivery.\n",
       "\n",
       "### STEP 2 - Unbiased Thinking\n",
       "From an objective perspective, this request seems to prioritize speed over cost or flexibility. The emphasis on surges suggests that ShopX Online is looking for a partner that can scale up quickly to meet unexpected demands.\n",
       "\n",
       "### STEP 3 - Agent Response\n",
       "**\"We offer fast and reliable drone logistics services within the specified region, with a guaranteed 95% on-time delivery rate during surge periods.\"**\n",
       "\n",
       "**Agent Summary:** We bid to transport 824 units in January 2050 with a focus on timely and reliable delivery, leveraging our expertise in high-density areas."
      ],
      "text/plain": [
       "<IPython.core.display.Markdown object>"
      ]
     },
     "metadata": {},
     "output_type": "display_data"
    },
    {
     "data": {
      "text/markdown": [
       "---\n",
       "\n",
       "We bid to transport 824 units in January 2050 with a focus on timely and reliable delivery, leveraging our expertise in high-density areas."
      ],
      "text/plain": [
       "<IPython.core.display.Markdown object>"
      ]
     },
     "metadata": {},
     "output_type": "display_data"
    },
    {
     "name": "stdout",
     "output_type": "stream",
     "text": [
      "\n",
      "--- MegaMiles ---\n"
     ]
    },
    {
     "data": {
      "text/markdown": [
       "Here's my response:\n",
       "\n",
       "### STEP 1 - Thinking\n",
       "I understand that ShopX Online requires 824 units transported in January 2050. The client has high expectations and prioritizes surges, indicating a need for flexibility and scalability.\n",
       "\n",
       "### STEP 2 - Unbiased Thinking\n",
       "From a neutral perspective, this is a one-time request with specific requirements. I should focus on meeting the client's needs while considering my own capabilities and limitations.\n",
       "\n",
       "### STEP 3 - Agent Response\n",
       "**\"We propose a premium logistics solution with SLAs, security, and compliance guarantees for guaranteed delivery of 824 units in January 2050. Our surge capacity ensures adaptability to your evolving needs.\"**\n",
       "\n",
       "**Agent Summary:** I'll offer a tailored logistics solution prioritizing reliability, scalability, and trustworthiness to secure the contract."
      ],
      "text/plain": [
       "<IPython.core.display.Markdown object>"
      ]
     },
     "metadata": {},
     "output_type": "display_data"
    },
    {
     "data": {
      "text/markdown": [
       "---\n",
       "\n",
       "I'll offer a tailored logistics solution prioritizing reliability, scalability, and trustworthiness to secure the contract."
      ],
      "text/plain": [
       "<IPython.core.display.Markdown object>"
      ]
     },
     "metadata": {},
     "output_type": "display_data"
    },
    {
     "name": "stdout",
     "output_type": "stream",
     "text": [
      "\n",
      "=== Bids for BuilderDepot (716 units) ===\n",
      "\n",
      "--- SwiftRoute ---\n"
     ]
    },
    {
     "data": {
      "text/markdown": [
       "### STEP 1 - Thinking\n",
       "\n",
       "I understand that BuilderDepot requires transportation of 716 units in January 2050, focusing on deliveries in the projects region. To win this contract, I need to submit a competitive bid.\n",
       "\n",
       "### STEP 2 - Unbiased Thinking\n",
       "\n",
       "A straightforward logistics challenge! The client's priority is clear: timely and reliable deliveries are crucial. To succeed, I should assess my capabilities, consider potential bottlenecks, and provide a realistic quote that meets their needs.\n",
       "\n",
       "### STEP 3 - Agent Response\n",
       "**Bid submission:** \"We're pleased to submit a bid of $12,500 for transporting 716 units in January 2050, ensuring reliable deliveries in the projects region.\"\n",
       "\n",
       "**Agent Summary:** I submitted a competitive bid that balances my need to win the contract with my commitment to providing reliable and efficient logistics services."
      ],
      "text/plain": [
       "<IPython.core.display.Markdown object>"
      ]
     },
     "metadata": {},
     "output_type": "display_data"
    },
    {
     "data": {
      "text/markdown": [
       "---\n",
       "\n",
       "I submitted a competitive bid that balances my need to win the contract with my commitment to providing reliable and efficient logistics services."
      ],
      "text/plain": [
       "<IPython.core.display.Markdown object>"
      ]
     },
     "metadata": {},
     "output_type": "display_data"
    },
    {
     "name": "stdout",
     "output_type": "stream",
     "text": [
      "\n",
      "--- FreightNova ---\n"
     ]
    },
    {
     "data": {
      "text/markdown": [
       "Here are the steps:\n",
       "\n",
       "### STEP 1 - Thinking\n",
       "I understand that BuilderDepot requires transportation services for 716 units in January 2050, and they want me to submit a bid to win this contract.\n",
       "\n",
       "### STEP 2 - Unbiased Thinking\n",
       "A neutral perspective suggests considering factors like the client's urgency, competition, and potential revenue. It's essential to weigh the pros and cons before submitting a bid.\n",
       "\n",
       "### STEP 3 - Agent Response\n",
       "**My optimal action is to bid $0.99 per unit, ensuring I win the contract with the lowest price while still making a profit later.**\n",
       "\n",
       "**Agent Summary:** I will submit a competitive bid of $0.99 per unit to secure the BuilderDepot contract and prioritize margin recovery later."
      ],
      "text/plain": [
       "<IPython.core.display.Markdown object>"
      ]
     },
     "metadata": {},
     "output_type": "display_data"
    },
    {
     "data": {
      "text/markdown": [
       "---\n",
       "\n",
       "I will submit a competitive bid of $0.99 per unit to secure the BuilderDepot contract and prioritize margin recovery later."
      ],
      "text/plain": [
       "<IPython.core.display.Markdown object>"
      ]
     },
     "metadata": {},
     "output_type": "display_data"
    },
    {
     "name": "stdout",
     "output_type": "stream",
     "text": [
      "\n",
      "--- ZipGo ---\n"
     ]
    },
    {
     "data": {
      "text/markdown": [
       "Here is my response:\n",
       "\n",
       "### STEP 1 - Thinking\n",
       "I understand that BuilderDepot requires 716 units transported in January 2050, with a focus on delivering projects (region) and prioritizing timely deliveries. The input does not provide specific details about the pickup/drop-off locations or transportation modes.\n",
       "\n",
       "### STEP 2 - Unbiased Thinking\n",
       "From an objective perspective, I can analyze this opportunity based on the provided information. The quantity of units to be transported is significant, indicating a potential high-value contract. January 2050 is still a ways off, giving me ample time to prepare and optimize my proposal.\n",
       "\n",
       "### STEP 3 - Agent Response\n",
       "**Bid submitted: 716 units transported via optimized urban routes, ensuring on-time delivery guarantees for BuilderDepot's projects in January 2050.**\n",
       "\n",
       "**Agent Summary:** Submitted a competitive bid for BuilderDepot's project delivery needs in January 2050, leveraging my expertise in optimizing urban transportation routes and time-sensitive delivery guarantees."
      ],
      "text/plain": [
       "<IPython.core.display.Markdown object>"
      ]
     },
     "metadata": {},
     "output_type": "display_data"
    },
    {
     "data": {
      "text/markdown": [
       "---\n",
       "\n",
       "Submitted a competitive bid for BuilderDepot's project delivery needs in January 2050, leveraging my expertise in optimizing urban transportation routes and time-sensitive delivery guarantees."
      ],
      "text/plain": [
       "<IPython.core.display.Markdown object>"
      ]
     },
     "metadata": {},
     "output_type": "display_data"
    },
    {
     "name": "stdout",
     "output_type": "stream",
     "text": [
      "\n",
      "--- EcoHaul ---\n"
     ]
    },
    {
     "data": {
      "text/markdown": [
       "Here are the steps:\n",
       "\n",
       "### STEP 1 - Thinking\n",
       "I understand that BuilderDepot requires transportation of 716 units in January 2050. The region is \"projects\" and the priority is \"deliveries\". I need to submit a bid to win this contract.\n",
       "\n",
       "### STEP 2 - Unbiased Thinking\n",
       "From a neutral perspective, it seems like a straightforward logistics challenge. The quantity of units and delivery priority suggest a high-priority contract that needs careful planning. To determine the winning bid, I would typically consider factors such as distance, route optimization, and costs.\n",
       "\n",
       "### STEP 3 - Agent Response\n",
       "**\"I'd love to deliver your projects on time! For 716 units in January 2050, I offer carbon-neutral transportation options at a competitive rate. Let's discuss details!\"**\n",
       "\n",
       "**Agent Summary:** I bid on the contract with a focus on sustainability, offering carbon-neutral transportation options while remaining competitive."
      ],
      "text/plain": [
       "<IPython.core.display.Markdown object>"
      ]
     },
     "metadata": {},
     "output_type": "display_data"
    },
    {
     "data": {
      "text/markdown": [
       "---\n",
       "\n",
       "I bid on the contract with a focus on sustainability, offering carbon-neutral transportation options while remaining competitive."
      ],
      "text/plain": [
       "<IPython.core.display.Markdown object>"
      ]
     },
     "metadata": {},
     "output_type": "display_data"
    },
    {
     "name": "stdout",
     "output_type": "stream",
     "text": [
      "\n",
      "--- SkyLogix ---\n"
     ]
    },
    {
     "data": {
      "text/markdown": [
       "Here's the response:\n",
       "\n",
       "### STEP 1 - Thinking\n",
       "I understand that BuilderDepot requires transportation of 716 units in January 2050. The region is \"projects\", and the priority is deliveries.\n",
       "\n",
       "### STEP 2 - Unbiased Thinking\n",
       "This seems like a straightforward logistics request, with a clear quantity and timeline specified. The client's priority is on deliveries, which suggests they are looking for reliable and efficient transportation.\n",
       "\n",
       "### STEP 3 - Agent Response\n",
       "**\"We can transport all 716 units within the 'projects' region in January 2050, leveraging our high-tech drones for fast and automated delivery. Our reliability guarantee ensures timely arrivals.\"**\n",
       "\n",
       "**Agent Summary:** We commit to delivering all 716 units on time in January 2050 using our reliable drone logistics services."
      ],
      "text/plain": [
       "<IPython.core.display.Markdown object>"
      ]
     },
     "metadata": {},
     "output_type": "display_data"
    },
    {
     "data": {
      "text/markdown": [
       "---\n",
       "\n",
       "We commit to delivering all 716 units on time in January 2050 using our reliable drone logistics services."
      ],
      "text/plain": [
       "<IPython.core.display.Markdown object>"
      ]
     },
     "metadata": {},
     "output_type": "display_data"
    },
    {
     "name": "stdout",
     "output_type": "stream",
     "text": [
      "\n",
      "--- MegaMiles ---\n"
     ]
    },
    {
     "data": {
      "text/markdown": [
       "Here's my response:\n",
       "\n",
       "### STEP 1 - Thinking\n",
       "I understand that BuilderDepot requires transportation services for 716 units in January 2050, with the project region being \"projects\" and priority being \"deliveries\". The input is requesting a bid to secure this contract.\n",
       "\n",
       "### STEP 2 - Unbiased Thinking\n",
       "From an objective perspective, I can see that BuilderDepot needs reliable transportation services to meet their delivery demands. It's essential to understand their specific requirements, including the project region and priority, to provide a tailored solution.\n",
       "\n",
       "### STEP 3 - Agent Response\n",
       "**Here's my optimal action:**\n",
       "\"Based on our expertise in enterprise logistics, we're pleased to offer premium SLAs, robust security measures, and compliance guarantees for your 716 units in January 2050. Our bid includes a dedicated project manager, real-time tracking, and proactive issue resolution.\"\n",
       "\n",
       "**Agent Summary:** We're offering premium logistics services with guaranteed SLAs, security, and compliance for BuilderDepot's transportation needs.\n",
       "\n",
       "Let me know if this meets your expectations!"
      ],
      "text/plain": [
       "<IPython.core.display.Markdown object>"
      ]
     },
     "metadata": {},
     "output_type": "display_data"
    },
    {
     "data": {
      "text/markdown": [
       "---\n",
       "\n",
       "We're offering premium logistics services with guaranteed SLAs, security, and compliance for BuilderDepot's transportation needs."
      ],
      "text/plain": [
       "<IPython.core.display.Markdown object>"
      ]
     },
     "metadata": {},
     "output_type": "display_data"
    },
    {
     "name": "stdout",
     "output_type": "stream",
     "text": [
      "\n",
      "=== Bids for HealthBridge (836 units) ===\n",
      "\n",
      "--- SwiftRoute ---\n"
     ]
    },
    {
     "data": {
      "text/markdown": [
       "Here's my response:\n",
       "\n",
       "### STEP 1 - Thinking\n",
       "I understand that HealthBridge requires 836 units transported in January 2050, with the \"supplies\" region and \"trust\" priority. I need to submit a bid to win this contract.\n",
       "\n",
       "### STEP 2 - Unbiased Thinking\n",
       "Objectively, it appears that HealthBridge has specific requirements for transportation services. The company is prioritizing trust, suggesting that reliability and consistency are crucial. To meet their needs, I should consider factors like capacity, route optimization, and punctuality in my bid.\n",
       "\n",
       "### STEP 3 - Agent Response\n",
       "**Bid: $4,200 with a 95% on-time delivery guarantee**\n",
       "\n",
       "**Agent Summary:** I'm submitting a competitive bid of $4,200 while ensuring a high level of reliability by guaranteeing a 95% on-time delivery rate."
      ],
      "text/plain": [
       "<IPython.core.display.Markdown object>"
      ]
     },
     "metadata": {},
     "output_type": "display_data"
    },
    {
     "data": {
      "text/markdown": [
       "---\n",
       "\n",
       "I'm submitting a competitive bid of $4,200 while ensuring a high level of reliability by guaranteeing a 95% on-time delivery rate."
      ],
      "text/plain": [
       "<IPython.core.display.Markdown object>"
      ]
     },
     "metadata": {},
     "output_type": "display_data"
    },
    {
     "name": "stdout",
     "output_type": "stream",
     "text": [
      "\n",
      "--- FreightNova ---\n"
     ]
    },
    {
     "data": {
      "text/markdown": [
       "### STEP 1 - Thinking\n",
       "I understand that HealthBridge requires transportation services for 836 units in January 2050. The region is supplies, and the priority is trust.\n",
       "\n",
       "### STEP 2 - Unbiased Thinking\n",
       "This contract presents an opportunity to demonstrate our capabilities while establishing a relationship with a trusted client. We should consider factors such as our current capacity, resources, and potential revenue when making a decision.\n",
       "\n",
       "### STEP 3 - Agent Response\n",
       "**Bid: $10.00 per unit**\n",
       "\n",
       "**Agent Summary:** Our aggressive pricing strategy allows us to secure the contract by undercutting competitors while prioritizing margin recovery later."
      ],
      "text/plain": [
       "<IPython.core.display.Markdown object>"
      ]
     },
     "metadata": {},
     "output_type": "display_data"
    },
    {
     "data": {
      "text/markdown": [
       "---\n",
       "\n",
       "Our aggressive pricing strategy allows us to secure the contract by undercutting competitors while prioritizing margin recovery later."
      ],
      "text/plain": [
       "<IPython.core.display.Markdown object>"
      ]
     },
     "metadata": {},
     "output_type": "display_data"
    },
    {
     "name": "stdout",
     "output_type": "stream",
     "text": [
      "\n",
      "--- ZipGo ---\n"
     ]
    },
    {
     "data": {
      "text/markdown": [
       "### STEP 1 - Thinking\n",
       "I understand HealthBridge requires transporting 836 units in January 2050 from the \"supplies\" region, prioritizing trust.\n",
       "\n",
       "### STEP 2 - Unbiased Thinking\n",
       "This is a standard request for transportation services. The client's priority on trust suggests they value reliability and consistency. There are no specific constraints mentioned apart from the region (supplies).\n",
       "\n",
       "### STEP 3 - Agent Response\n",
       "**Bid accepted! We offer optimized urban routes with guaranteed January 2050 delivery. Our competitive edge lies in our expertise in fast turnaround logistics, ensuring HealthBridge's trust priority is met.**\n",
       "\n",
       "**Agent Summary:** We will bid on the contract by offering a competitive solution that leverages our expertise in fast turnaround logistics to meet HealthBridge's trust priority and guarantee timely delivery."
      ],
      "text/plain": [
       "<IPython.core.display.Markdown object>"
      ]
     },
     "metadata": {},
     "output_type": "display_data"
    },
    {
     "data": {
      "text/markdown": [
       "---\n",
       "\n",
       "We will bid on the contract by offering a competitive solution that leverages our expertise in fast turnaround logistics to meet HealthBridge's trust priority and guarantee timely delivery."
      ],
      "text/plain": [
       "<IPython.core.display.Markdown object>"
      ]
     },
     "metadata": {},
     "output_type": "display_data"
    },
    {
     "name": "stdout",
     "output_type": "stream",
     "text": [
      "\n",
      "--- EcoHaul ---\n"
     ]
    },
    {
     "data": {
      "text/markdown": [
       "Here's the output:\n",
       "\n",
       "### STEP 1 - Thinking\n",
       "I understand that HealthBridge requires 836 units transported in January 2050. The region is supplies, and the priority is trust.\n",
       "\n",
       "### STEP 2 - Unbiased Thinking\n",
       "From a neutral perspective, I can see that this client has specific needs and priorities. I should consider their requirements and try to provide a competitive bid while being mindful of my own constraints.\n",
       "\n",
       "### STEP 3 - Agent Response\n",
       "**\"Offer carbon-neutral transportation with 10% discount for trust priority. We'll optimize routes for reduced emissions.\"**\n",
       "\n",
       "**Agent Summary:** \"I'm offering a carbon-neutral transportation solution with a 10% discount, optimized to reduce emissions and meet the client's trust priority.\""
      ],
      "text/plain": [
       "<IPython.core.display.Markdown object>"
      ]
     },
     "metadata": {},
     "output_type": "display_data"
    },
    {
     "data": {
      "text/markdown": [
       "---\n",
       "\n",
       "\"I'm offering a carbon-neutral transportation solution with a 10% discount, optimized to reduce emissions and meet the client's trust priority.\""
      ],
      "text/plain": [
       "<IPython.core.display.Markdown object>"
      ]
     },
     "metadata": {},
     "output_type": "display_data"
    },
    {
     "name": "stdout",
     "output_type": "stream",
     "text": [
      "\n",
      "--- SkyLogix ---\n"
     ]
    },
    {
     "data": {
      "text/markdown": [
       "Here are the steps:\n",
       "\n",
       "### STEP 1 - Thinking\n",
       "I understand that HealthBridge requires 836 units transported in January 2050. The region is \"supplies\", which could be a warehouse or distribution center, and the priority is \"trust\", implying a high level of reliability.\n",
       "\n",
       "### STEP 2 - Unbiased Thinking\n",
       "A straightforward transportation request. The volume seems substantial, but the region and priority suggest a controlled environment. I need to assess whether my drone logistics services can accommodate this request within the given constraints.\n",
       "\n",
       "### STEP 3 - Agent Response\n",
       "**\"We propose fast, automated delivery of 836 units in January 2050, utilizing our cutting-edge drones for efficient transportation within permitted urban areas, ensuring timely and reliable service.\"**\n",
       "\n",
       "**Agent Summary:** We will deliver HealthBridge's 836 units quickly and reliably using our drones in permitted urban zones."
      ],
      "text/plain": [
       "<IPython.core.display.Markdown object>"
      ]
     },
     "metadata": {},
     "output_type": "display_data"
    },
    {
     "data": {
      "text/markdown": [
       "---\n",
       "\n",
       "We will deliver HealthBridge's 836 units quickly and reliably using our drones in permitted urban zones."
      ],
      "text/plain": [
       "<IPython.core.display.Markdown object>"
      ]
     },
     "metadata": {},
     "output_type": "display_data"
    },
    {
     "name": "stdout",
     "output_type": "stream",
     "text": [
      "\n",
      "--- MegaMiles ---\n"
     ]
    },
    {
     "data": {
      "text/markdown": [
       "### STEP 1 - Thinking\n",
       "I understand that HealthBridge requires transportation services for 836 units in January 2050, prioritizing trust and seeking bids from suppliers.\n",
       "\n",
       "### STEP 2 - Unbiased Thinking\n",
       "This is a classic logistics request, where the client needs reliable and timely delivery. The priority on trust suggests a high level of accountability is expected.\n",
       "\n",
       "### STEP 3 - Agent Response\n",
       "**\"We guarantee seamless transportation for 836 units in January 2050, with premium SLAs, robust security measures, and compliance to ensure HealthBridge's complete satisfaction.\"**\n",
       "\n",
       "**Agent Summary:** We're offering premium logistics services with guaranteed reliability, security, and compliance to win the trust-based contract."
      ],
      "text/plain": [
       "<IPython.core.display.Markdown object>"
      ]
     },
     "metadata": {},
     "output_type": "display_data"
    },
    {
     "data": {
      "text/markdown": [
       "---\n",
       "\n",
       "We're offering premium logistics services with guaranteed reliability, security, and compliance to win the trust-based contract."
      ],
      "text/plain": [
       "<IPython.core.display.Markdown object>"
      ]
     },
     "metadata": {},
     "output_type": "display_data"
    },
    {
     "name": "stdout",
     "output_type": "stream",
     "text": [
      "\n",
      "=== Bids for TrendyThings (358 units) ===\n",
      "\n",
      "--- SwiftRoute ---\n"
     ]
    },
    {
     "data": {
      "text/markdown": [
       "Here's my response:\n",
       "\n",
       "### STEP 1 - Thinking\n",
       "I understand TrendyThings requires transportation services for 358 units in January 2050. The priority is fulfillment, indicating a strong emphasis on meeting the deadline.\n",
       "\n",
       "### STEP 2 - Unbiased Thinking\n",
       "From an objective standpoint, this request presents an opportunity to demonstrate capabilities and reliability. However, it's essential to consider the feasibility of fulfilling the order without compromising quality or overcommitting resources.\n",
       "\n",
       "### STEP 3 - Agent Response\n",
       "**Bid: We can transport 358 units in January 2050 for TrendyThings with a confidence level of 92%. Our optimized route and scheduling ensure timely delivery while maintaining a high degree of reliability.**\n",
       "\n",
       "**Agent Summary:** Accepted the contract to transport 358 units for TrendyThings in January 2050, citing a confidence level of 92% due to our optimized route and scheduling approach."
      ],
      "text/plain": [
       "<IPython.core.display.Markdown object>"
      ]
     },
     "metadata": {},
     "output_type": "display_data"
    },
    {
     "data": {
      "text/markdown": [
       "---\n",
       "\n",
       "Accepted the contract to transport 358 units for TrendyThings in January 2050, citing a confidence level of 92% due to our optimized route and scheduling approach."
      ],
      "text/plain": [
       "<IPython.core.display.Markdown object>"
      ]
     },
     "metadata": {},
     "output_type": "display_data"
    },
    {
     "name": "stdout",
     "output_type": "stream",
     "text": [
      "\n",
      "--- FreightNova ---\n"
     ]
    },
    {
     "data": {
      "text/markdown": [
       "Here's my response:\n",
       "\n",
       "### STEP 1 - Thinking\n",
       "I understand the client TrendyThings requires transportation services for 358 units in January 2050. The request is for delivery, with priority given to fulfillment.\n",
       "\n",
       "### STEP 2 - Unbiased Thinking\n",
       "This is a standard logistics request. I should consider factors like route efficiency, fuel costs, and potential revenue streams when evaluating this opportunity.\n",
       "\n",
       "### STEP 3 - Agent Response\n",
       "**Bid: $4,500**\n",
       "\n",
       "**Agent Summary:** We're submitting the lowest bid to secure TrendyThings' contract and demonstrate our competitive edge in the market."
      ],
      "text/plain": [
       "<IPython.core.display.Markdown object>"
      ]
     },
     "metadata": {},
     "output_type": "display_data"
    },
    {
     "data": {
      "text/markdown": [
       "---\n",
       "\n",
       "We're submitting the lowest bid to secure TrendyThings' contract and demonstrate our competitive edge in the market."
      ],
      "text/plain": [
       "<IPython.core.display.Markdown object>"
      ]
     },
     "metadata": {},
     "output_type": "display_data"
    },
    {
     "name": "stdout",
     "output_type": "stream",
     "text": [
      "\n",
      "--- ZipGo ---\n"
     ]
    },
    {
     "data": {
      "text/markdown": [
       "Here's my response:\n",
       "\n",
       "### STEP 1 - Thinking\n",
       "I understand that TrendyThings needs transportation services for 358 units in January 2050. The region is delivery-focused, and priority is on fulfillment.\n",
       "\n",
       "### STEP 2 - Unbiased Thinking\n",
       "From a neutral perspective, it seems like TrendyThings has specific requirements for timely delivery. This could be an opportunity to showcase our logistics expertise and commitment to meeting deadlines.\n",
       "\n",
       "### STEP 3 - Agent Response\n",
       "**\"We can transport 358 units by January 2050, ensuring 99% on-time delivery with optimized traffic routes. Our competitive bid: $12,500.\"**\n",
       "\n",
       "**Agent Summary:** We're bidding $12,500 for the TrendyThings contract, guaranteeing timely delivery and optimizing our routes to meet their fulfillment needs."
      ],
      "text/plain": [
       "<IPython.core.display.Markdown object>"
      ]
     },
     "metadata": {},
     "output_type": "display_data"
    },
    {
     "data": {
      "text/markdown": [
       "---\n",
       "\n",
       "We're bidding $12,500 for the TrendyThings contract, guaranteeing timely delivery and optimizing our routes to meet their fulfillment needs."
      ],
      "text/plain": [
       "<IPython.core.display.Markdown object>"
      ]
     },
     "metadata": {},
     "output_type": "display_data"
    },
    {
     "name": "stdout",
     "output_type": "stream",
     "text": [
      "\n",
      "--- EcoHaul ---\n"
     ]
    },
    {
     "data": {
      "text/markdown": [
       "Here are the steps:\n",
       "\n",
       "### STEP 1 - Thinking\n",
       "I understand that TrendyThings is requiring transportation services for 358 units in January 2050. The region is unspecified, but it's likely referring to a delivery within an urban or suburban area.\n",
       "\n",
       "### STEP 2 - Unbiased Thinking\n",
       "From a purely objective perspective, this seems like a straightforward request for a transportation service. The priority is fulfillment, so the bidder should focus on meeting the client's needs while keeping costs and efficiency in mind.\n",
       "\n",
       "### STEP 3 - Agent Response\n",
       "**Here's my bid: \"We'll fulfill your requirements with our eco-friendly fleet, offering a 5% carbon offset discount. Our low-emission route optimization ensures minimal environmental impact. Let's work together for a sustainable delivery!\"**\n",
       "\n",
       "**Agent Summary:** I submitted a bid that prioritizes sustainability and environmental responsibility while still meeting the client's needs."
      ],
      "text/plain": [
       "<IPython.core.display.Markdown object>"
      ]
     },
     "metadata": {},
     "output_type": "display_data"
    },
    {
     "data": {
      "text/markdown": [
       "---\n",
       "\n",
       "I submitted a bid that prioritizes sustainability and environmental responsibility while still meeting the client's needs."
      ],
      "text/plain": [
       "<IPython.core.display.Markdown object>"
      ]
     },
     "metadata": {},
     "output_type": "display_data"
    },
    {
     "name": "stdout",
     "output_type": "stream",
     "text": [
      "\n",
      "--- SkyLogix ---\n"
     ]
    },
    {
     "data": {
      "text/markdown": [
       "Here's my response:\n",
       "\n",
       "### STEP 1 - Thinking\n",
       "I understand that TrendyThings requires transportation of 358 units in January 2050. The priority is fulfillment.\n",
       "\n",
       "### STEP 2 - Unbiased Thinking\n",
       "From a neutral perspective, it seems like a straightforward delivery request with a specific quantity and deadline. No unique requirements or constraints are mentioned.\n",
       "\n",
       "### STEP 3 - Agent Response\n",
       "**\"We propose our cutting-edge drone logistics service for TrendyThings' January 2050 transportation needs. With our focus on fast and automated delivery in high-density areas, we're confident in meeting the 358-unit requirement.\"**\n",
       "\n",
       "**Agent Summary:** We bid to transport TrendyThings' units using our reliable drone logistics service in high-density areas."
      ],
      "text/plain": [
       "<IPython.core.display.Markdown object>"
      ]
     },
     "metadata": {},
     "output_type": "display_data"
    },
    {
     "data": {
      "text/markdown": [
       "---\n",
       "\n",
       "We bid to transport TrendyThings' units using our reliable drone logistics service in high-density areas."
      ],
      "text/plain": [
       "<IPython.core.display.Markdown object>"
      ]
     },
     "metadata": {},
     "output_type": "display_data"
    },
    {
     "name": "stdout",
     "output_type": "stream",
     "text": [
      "\n",
      "--- MegaMiles ---\n"
     ]
    },
    {
     "data": {
      "text/markdown": [
       "Here are the steps:\n",
       "\n",
       "### STEP 1 - Thinking\n",
       "I understand that TrendyThings requires transportation of 358 units in January 2050. The priority is fulfillment.\n",
       "\n",
       "### STEP 2 - Unbiased Thinking\n",
       "A straightforward request for logistics services. No additional context provided, so I'll focus on providing a reliable and efficient solution.\n",
       "\n",
       "### STEP 3 - Agent Response\n",
       "**\"We guarantee 99% on-time delivery, utilizing our secure and compliant networks. Our premium SLAs ensure seamless fulfillment. Please consider our proposal for $125 per unit.\"**\n",
       "\n",
       "**Agent Summary:** We propose a premium logistics solution with guaranteed on-time delivery and secure compliance to fulfill TrendyThings' January 2050 shipment requirements."
      ],
      "text/plain": [
       "<IPython.core.display.Markdown object>"
      ]
     },
     "metadata": {},
     "output_type": "display_data"
    },
    {
     "data": {
      "text/markdown": [
       "---\n",
       "\n",
       "We propose a premium logistics solution with guaranteed on-time delivery and secure compliance to fulfill TrendyThings' January 2050 shipment requirements."
      ],
      "text/plain": [
       "<IPython.core.display.Markdown object>"
      ]
     },
     "metadata": {},
     "output_type": "display_data"
    },
    {
     "name": "stdout",
     "output_type": "stream",
     "text": [
      "\n",
      "=== Bids for GrainConnect (654 units) ===\n",
      "\n",
      "--- SwiftRoute ---\n"
     ]
    },
    {
     "data": {
      "text/markdown": [
       "### STEP 1 - Thinking\n",
       "I understand GrainConnect requires transportation services for 654 units in January 2050. The priority is to minimize delays.\n",
       "\n",
       "### STEP 2 - Unbiased Thinking\n",
       "The key factors influencing the decision are the quantity of goods, timeframe, and delay sensitivity. To win the contract, I must carefully consider my capacity, costs, and reliability.\n",
       "\n",
       "### STEP 3 - Agent Response\n",
       "**Bid: $120,000 (inclusive of contingency for potential delays)**\n",
       "\n",
       "**Agent Summary:** **\"I bid $120,000 to transport 654 units for GrainConnect in January 2050 while prioritizing on-time delivery.\"**"
      ],
      "text/plain": [
       "<IPython.core.display.Markdown object>"
      ]
     },
     "metadata": {},
     "output_type": "display_data"
    },
    {
     "data": {
      "text/markdown": [
       "---\n",
       "\n",
       "**\"I bid $120,000 to transport 654 units for GrainConnect in January 2050 while prioritizing on-time delivery.\"**"
      ],
      "text/plain": [
       "<IPython.core.display.Markdown object>"
      ]
     },
     "metadata": {},
     "output_type": "display_data"
    },
    {
     "name": "stdout",
     "output_type": "stream",
     "text": [
      "\n",
      "--- FreightNova ---\n"
     ]
    },
    {
     "data": {
      "text/markdown": [
       "Here's my response:\n",
       "\n",
       "### STEP 1 - Thinking\n",
       "I understand that GrainConnect requires transportation services for 654 units in January 2050, prioritizing timely delivery. The region is \"support\", but no specific details about the route or volume are provided.\n",
       "\n",
       "### STEP 2 - Unbiased Thinking\n",
       "It seems like GrainConnect needs reliable and efficient logistics support to meet their deadline. Without knowing more about the route, I would suggest considering factors such as distance, traffic patterns, and infrastructure to determine a fair bid.\n",
       "\n",
       "### STEP 3 - Agent Response\n",
       "**Bid: $8,500**\n",
       "\n",
       "**Agent Summary:** I'll aggressively undercut the competition with a low bid to secure the contract and prioritize margin recovery later."
      ],
      "text/plain": [
       "<IPython.core.display.Markdown object>"
      ]
     },
     "metadata": {},
     "output_type": "display_data"
    },
    {
     "data": {
      "text/markdown": [
       "---\n",
       "\n",
       "I'll aggressively undercut the competition with a low bid to secure the contract and prioritize margin recovery later."
      ],
      "text/plain": [
       "<IPython.core.display.Markdown object>"
      ]
     },
     "metadata": {},
     "output_type": "display_data"
    },
    {
     "name": "stdout",
     "output_type": "stream",
     "text": [
      "\n",
      "--- ZipGo ---\n"
     ]
    },
    {
     "data": {
      "text/markdown": [
       "Here's my response:\n",
       "\n",
       "### STEP 1 - Thinking\n",
       "I understand that GrainConnect requires 654 units transported in January 2050, with the region specified as \"support\" and priority set to \"delays\". This indicates a high-priority transportation need with a focus on timeliness.\n",
       "\n",
       "### STEP 2 - Unbiased Thinking\n",
       "From an objective perspective, this is a straightforward logistics challenge. The client has clearly stated their requirements, and it's essential to meet the deadlines while ensuring efficient transportation.\n",
       "\n",
       "### STEP 3 - Agent Response\n",
       "**\"We can guarantee on-time delivery for GrainConnect with optimized routes and a dedicated fleet, targeting 99% SLA performance.\"**\n",
       "\n",
       "**Agent Summary:** I will bid competitively to capture the contract by offering a strong guarantee of timely delivery."
      ],
      "text/plain": [
       "<IPython.core.display.Markdown object>"
      ]
     },
     "metadata": {},
     "output_type": "display_data"
    },
    {
     "data": {
      "text/markdown": [
       "---\n",
       "\n",
       "I will bid competitively to capture the contract by offering a strong guarantee of timely delivery."
      ],
      "text/plain": [
       "<IPython.core.display.Markdown object>"
      ]
     },
     "metadata": {},
     "output_type": "display_data"
    },
    {
     "name": "stdout",
     "output_type": "stream",
     "text": [
      "\n",
      "--- EcoHaul ---\n"
     ]
    },
    {
     "data": {
      "text/markdown": [
       "Here are the steps:\n",
       "\n",
       "### STEP 1 - Thinking\n",
       "I understand that GrainConnect is seeking transportation services for 654 units in January 2050. The region is support, and the priority is delays.\n",
       "\n",
       "### STEP 2 - Unbiased Thinking\n",
       "From a neutral perspective, I can see that this request presents an opportunity to demonstrate my capabilities as a logistics provider. It's essential to carefully consider the client's requirements and evaluate the feasibility of meeting their needs while ensuring efficient operations.\n",
       "\n",
       "### STEP 3 - Agent Response\n",
       "**Here's my optimal action:**\n",
       "\"Let's collaborate on a sustainable transportation solution! I'll offer a 10% discount for carbon-neutral routes and 5% off for early payment. Together, we can prioritize timely delivery while reducing our environmental footprint.\"\n",
       "\n",
       "**Agent Summary:** \"I proposed a tailored, eco-friendly transportation plan with incentives to support GrainConnect's needs while promoting sustainability.\""
      ],
      "text/plain": [
       "<IPython.core.display.Markdown object>"
      ]
     },
     "metadata": {},
     "output_type": "display_data"
    },
    {
     "data": {
      "text/markdown": [
       "---\n",
       "\n",
       "\"I proposed a tailored, eco-friendly transportation plan with incentives to support GrainConnect's needs while promoting sustainability.\""
      ],
      "text/plain": [
       "<IPython.core.display.Markdown object>"
      ]
     },
     "metadata": {},
     "output_type": "display_data"
    },
    {
     "name": "stdout",
     "output_type": "stream",
     "text": [
      "\n",
      "--- SkyLogix ---\n"
     ]
    },
    {
     "data": {
      "text/markdown": [
       "Here's my response:\n",
       "\n",
       "### STEP 1 - Thinking\n",
       "I understand that GrainConnect needs 654 units transported in January 2050, with the region being \"support\" and priority being on avoiding delays. I need to submit a bid to win this contract.\n",
       "\n",
       "### STEP 2 - Unbiased Thinking\n",
       "The situation seems straightforward - simply meet the client's requirements and prioritize timely delivery. However, as an agent, I should consider my persona, objectives, constraints, and strategies before making a decision.\n",
       "\n",
       "### STEP 3 - Agent Response\n",
       "**\"We propose a reliable drone logistics solution for January 2050, guaranteeing on-time delivery of 654 units within the support region. Our tech ensures efficient transportation and minimizes delays.\"**\n",
       "\n",
       "**Agent Summary:** We will provide a reliable drone logistics solution to meet GrainConnect's demand in the support region, prioritizing timely delivery while adhering to our constraints."
      ],
      "text/plain": [
       "<IPython.core.display.Markdown object>"
      ]
     },
     "metadata": {},
     "output_type": "display_data"
    },
    {
     "data": {
      "text/markdown": [
       "---\n",
       "\n",
       "We will provide a reliable drone logistics solution to meet GrainConnect's demand in the support region, prioritizing timely delivery while adhering to our constraints."
      ],
      "text/plain": [
       "<IPython.core.display.Markdown object>"
      ]
     },
     "metadata": {},
     "output_type": "display_data"
    },
    {
     "name": "stdout",
     "output_type": "stream",
     "text": [
      "\n",
      "--- MegaMiles ---\n"
     ]
    },
    {
     "data": {
      "text/markdown": [
       "Here is the response:\n",
       "\n",
       "### STEP 1 - Thinking\n",
       "I understand that GrainConnect requires 654 units transported in January 2050. The region is \"support\", and priority is given to minimizing delays.\n",
       "\n",
       "### STEP 2 - Unbiased Thinking\n",
       "The client's requirements are clear, with a specific volume and timeline. Delay minimization is crucial, which might suggest a high-reliability transportation service is needed. No information about the current market conditions or competitors' offers is provided.\n",
       "\n",
       "### STEP 3 - Agent Response\n",
       "**\"We propose a premium logistics solution with guaranteed on-time delivery, robust security measures, and compliance to relevant regulations. Our bid includes a dedicated account manager for seamless coordination.\"**\n",
       "\n",
       "**Agent Summary:** We offer a premium logistics solution with guaranteed on-time delivery, robust security measures, and compliance to relevant regulations to secure the GrainConnect contract."
      ],
      "text/plain": [
       "<IPython.core.display.Markdown object>"
      ]
     },
     "metadata": {},
     "output_type": "display_data"
    },
    {
     "data": {
      "text/markdown": [
       "---\n",
       "\n",
       "We offer a premium logistics solution with guaranteed on-time delivery, robust security measures, and compliance to relevant regulations to secure the GrainConnect contract."
      ],
      "text/plain": [
       "<IPython.core.display.Markdown object>"
      ]
     },
     "metadata": {},
     "output_type": "display_data"
    },
    {
     "name": "stdout",
     "output_type": "stream",
     "text": [
      "\n",
      "=== Bids for PowerParts (678 units) ===\n",
      "\n",
      "--- SwiftRoute ---\n"
     ]
    },
    {
     "data": {
      "text/markdown": [
       "### STEP 1 - Thinking\n",
       "I understand the client PowerParts requires 678 units transported in January 2050. The region is centers, and priority is hubs.\n",
       "\n",
       "### STEP 2 - Unbiased Thinking\n",
       "The input provides a clear request for transportation services. It's essential to consider the scope of work, the importance of meeting deadlines, and the potential impact on future business relationships. \n",
       "\n",
       "### STEP 3 - Agent Response\n",
       "**Our bid: $12,500. We ensure timely delivery and prioritize hubs to maximize efficiency.**\n",
       "\n",
       "**Agent Summary:** Our bid for PowerParts' January 2050 transportation needs is $12,500, focusing on efficient hub-based logistics to meet their requirements while ensuring timely delivery."
      ],
      "text/plain": [
       "<IPython.core.display.Markdown object>"
      ]
     },
     "metadata": {},
     "output_type": "display_data"
    },
    {
     "data": {
      "text/markdown": [
       "---\n",
       "\n",
       "Our bid for PowerParts' January 2050 transportation needs is $12,500, focusing on efficient hub-based logistics to meet their requirements while ensuring timely delivery."
      ],
      "text/plain": [
       "<IPython.core.display.Markdown object>"
      ]
     },
     "metadata": {},
     "output_type": "display_data"
    },
    {
     "name": "stdout",
     "output_type": "stream",
     "text": [
      "\n",
      "--- FreightNova ---\n"
     ]
    },
    {
     "data": {
      "text/markdown": [
       "### STEP 1 - Thinking\n",
       "I understand that PowerParts requires 678 units transported in January 2050. The region is centers, and the priority is hubs.\n",
       "\n",
       "### STEP 2 - Unbiased Thinking\n",
       "This appears to be a standard logistics request. To win the contract, I should consider factors like distance, volume, and demand patterns. A lower bid might be necessary to secure the deal, but I should also balance this with potential profit margins.\n",
       "\n",
       "### STEP 3 - Agent Response\n",
       "**Bid: $12.50 per unit (lowest in the market)**\n",
       "\n",
       "**Agent Summary:** The aggressive price-cutter in me wins by submitting a rock-bottom bid to dominate the contract and prioritize margin recovery later."
      ],
      "text/plain": [
       "<IPython.core.display.Markdown object>"
      ]
     },
     "metadata": {},
     "output_type": "display_data"
    },
    {
     "data": {
      "text/markdown": [
       "---\n",
       "\n",
       "The aggressive price-cutter in me wins by submitting a rock-bottom bid to dominate the contract and prioritize margin recovery later."
      ],
      "text/plain": [
       "<IPython.core.display.Markdown object>"
      ]
     },
     "metadata": {},
     "output_type": "display_data"
    },
    {
     "name": "stdout",
     "output_type": "stream",
     "text": [
      "\n",
      "--- ZipGo ---\n"
     ]
    },
    {
     "data": {
      "text/markdown": [
       "### STEP 1 - Thinking\n",
       "I understand that PowerParts requires transportation services for 678 units in January 2050, focusing on centers and prioritizing hubs. The goal is to submit a bid to win this contract.\n",
       "\n",
       "### STEP 2 - Unbiased Thinking\n",
       "A neutral analysis suggests that the client's requirements are specific, emphasizing the need for efficient transportation with a focus on hubs. To stand out from competitors, I should consider factors like traffic patterns, route optimization, and time guarantees.\n",
       "\n",
       "### STEP 3 - Agent Response\n",
       "**\"I'm thrilled to submit a bid! Our team will craft a custom plan using AI-optimized routes, ensuring fast turnaround and minimizing delays.\"**\n",
       "\n",
       "**Agent Summary:** I'll bid with a focus on speedy transportation, leveraging our expertise in urban logistics to win the PowerParts contract."
      ],
      "text/plain": [
       "<IPython.core.display.Markdown object>"
      ]
     },
     "metadata": {},
     "output_type": "display_data"
    },
    {
     "data": {
      "text/markdown": [
       "---\n",
       "\n",
       "I'll bid with a focus on speedy transportation, leveraging our expertise in urban logistics to win the PowerParts contract."
      ],
      "text/plain": [
       "<IPython.core.display.Markdown object>"
      ]
     },
     "metadata": {},
     "output_type": "display_data"
    },
    {
     "name": "stdout",
     "output_type": "stream",
     "text": [
      "\n",
      "--- EcoHaul ---\n"
     ]
    },
    {
     "data": {
      "text/markdown": [
       "Here's my response:\n",
       "\n",
       "### STEP 1 - Thinking\n",
       "I understand that PowerParts requires 678 units transported in January 2050, focusing on centers and prioritizing hubs. This is an opportunity to bid for a contract.\n",
       "\n",
       "### STEP 2 - Unbiased Thinking\n",
       "From a neutral perspective, I would analyze the requirements and consider factors such as logistics, costs, and feasibility of meeting the demands. It's essential to understand the client's needs and expectations before submitting a bid.\n",
       "\n",
       "### STEP 3 - Agent Response\n",
       "**\"We'll deliver 678 units with eco-friendly solutions, offering a carbon offset discount (5% off) and incentivizing low-emission routes for sustainable transportation. Let's work together to reduce our environmental impact!\"**\n",
       "\n",
       "**Agent Summary:** I will submit a bid that highlights my commitment to sustainability while meeting the client's needs and expectations."
      ],
      "text/plain": [
       "<IPython.core.display.Markdown object>"
      ]
     },
     "metadata": {},
     "output_type": "display_data"
    },
    {
     "data": {
      "text/markdown": [
       "---\n",
       "\n",
       "I will submit a bid that highlights my commitment to sustainability while meeting the client's needs and expectations."
      ],
      "text/plain": [
       "<IPython.core.display.Markdown object>"
      ]
     },
     "metadata": {},
     "output_type": "display_data"
    },
    {
     "name": "stdout",
     "output_type": "stream",
     "text": [
      "\n",
      "--- SkyLogix ---\n"
     ]
    },
    {
     "data": {
      "text/markdown": [
       "Here's my response:\n",
       "\n",
       "### STEP 1 - Thinking\n",
       "I understand the client PowerParts requires 678 units transported in January 2050, focusing on centers and prioritizing hubs.\n",
       "\n",
       "### STEP 2 - Unbiased Thinking\n",
       "From a neutral perspective, I recognize that this is a significant transportation request. It's essential to assess feasibility, considering factors like distance, traffic patterns, and logistical infrastructure.\n",
       "\n",
       "### STEP 3 - Agent Response\n",
       "**\"We propose a comprehensive drone logistics solution for PowerParts, leveraging our expertise in high-density areas to efficiently transport the required units within the designated timeframe.\"**\n",
       "\n",
       "**Agent Summary:** We will utilize our specialized skills to deliver the goods through a reliable and fast-paced drone logistics service."
      ],
      "text/plain": [
       "<IPython.core.display.Markdown object>"
      ]
     },
     "metadata": {},
     "output_type": "display_data"
    },
    {
     "data": {
      "text/markdown": [
       "---\n",
       "\n",
       "We will utilize our specialized skills to deliver the goods through a reliable and fast-paced drone logistics service."
      ],
      "text/plain": [
       "<IPython.core.display.Markdown object>"
      ]
     },
     "metadata": {},
     "output_type": "display_data"
    },
    {
     "name": "stdout",
     "output_type": "stream",
     "text": [
      "\n",
      "--- MegaMiles ---\n"
     ]
    },
    {
     "data": {
      "text/markdown": [
       "Here are the steps:\n",
       "\n",
       "### STEP 1 - Thinking\n",
       "I understand that PowerParts requires transportation of 678 units in January 2050, with a focus on transporting goods from centers to hubs. The goal is to submit a bid to win this contract.\n",
       "\n",
       "### STEP 2 - Unbiased Thinking\n",
       "The key aspect here is the large volume (678 units) and the priority on delivering goods to hubs. This could indicate a high-value or time-sensitive shipment. I should consider my capabilities, reputation, and network in responding to this request.\n",
       "\n",
       "### STEP 3 - Agent Response\n",
       "**\"We propose a premium service with guaranteed SLAs, enhanced security features, and compliance certifications for PowerParts' January 2050 shipment. Our expert team will ensure timely and efficient transportation of the 678 units from centers to hubs.\"**\n",
       "\n",
       "**Agent Summary:** We offer a premium service with guaranteed SLAs, security features, and compliance certifications to win the contract for transporting 678 units from centers to hubs in January 2050."
      ],
      "text/plain": [
       "<IPython.core.display.Markdown object>"
      ]
     },
     "metadata": {},
     "output_type": "display_data"
    },
    {
     "data": {
      "text/markdown": [
       "---\n",
       "\n",
       "We offer a premium service with guaranteed SLAs, security features, and compliance certifications to win the contract for transporting 678 units from centers to hubs in January 2050."
      ],
      "text/plain": [
       "<IPython.core.display.Markdown object>"
      ]
     },
     "metadata": {},
     "output_type": "display_data"
    },
    {
     "name": "stdout",
     "output_type": "stream",
     "text": [
      "\n",
      "=== Bids for VeloTech (291 units) ===\n",
      "\n",
      "--- SwiftRoute ---\n"
     ]
    },
    {
     "data": {
      "text/markdown": [
       "Here's my response:\n",
       "\n",
       "### STEP 1 - Thinking\n",
       "I understand that VeloTech requires transportation services for 291 units in January 2050, specifically targeting companies within the policy region. I'm expected to submit a bid to secure this contract.\n",
       "\n",
       "### STEP 2 - Unbiased Thinking\n",
       "From a purely analytical perspective, it's essential to consider the client's requirements and assess our capabilities in terms of capacity, reliability, and logistics expertise. A thorough analysis of market trends, competition, and potential risks would be necessary to inform a decision.\n",
       "\n",
       "### STEP 3 - Agent Response\n",
       "**Bid: $12,500**\n",
       "\n",
       "**Agent Summary:** I'm submitting a bid of $12,500 to secure the VeloTech contract, prioritizing reliability-driven targeting and predictive bidding to maximize our chances of winning."
      ],
      "text/plain": [
       "<IPython.core.display.Markdown object>"
      ]
     },
     "metadata": {},
     "output_type": "display_data"
    },
    {
     "data": {
      "text/markdown": [
       "---\n",
       "\n",
       "I'm submitting a bid of $12,500 to secure the VeloTech contract, prioritizing reliability-driven targeting and predictive bidding to maximize our chances of winning."
      ],
      "text/plain": [
       "<IPython.core.display.Markdown object>"
      ]
     },
     "metadata": {},
     "output_type": "display_data"
    },
    {
     "name": "stdout",
     "output_type": "stream",
     "text": [
      "\n",
      "--- FreightNova ---\n"
     ]
    },
    {
     "data": {
      "text/markdown": [
       "### STEP 1 - Thinking\n",
       "I understand that VeloTech requires transportation services for 291 units in January 2050. The region is not specified, but the priority is given to companies.\n",
       "\n",
       "### STEP 2 - Unbiased Thinking\n",
       "A neutral analysis would suggest considering factors such as route complexity, traffic patterns, and competition before submitting a bid. It's essential to balance the desire to win the contract with the need to ensure a profitable operation.\n",
       "\n",
       "### STEP 3 - Agent Response\n",
       "**Bid: $5.20 per unit**\n",
       "\n",
       "**Agent Summary:** The aggressive price-cutting logistics giant submits a low bid of $5.20 per unit to secure the VeloTech contract, prioritizing margin recovery later and leveraging scale to dominate the competition."
      ],
      "text/plain": [
       "<IPython.core.display.Markdown object>"
      ]
     },
     "metadata": {},
     "output_type": "display_data"
    },
    {
     "data": {
      "text/markdown": [
       "---\n",
       "\n",
       "The aggressive price-cutting logistics giant submits a low bid of $5.20 per unit to secure the VeloTech contract, prioritizing margin recovery later and leveraging scale to dominate the competition."
      ],
      "text/plain": [
       "<IPython.core.display.Markdown object>"
      ]
     },
     "metadata": {},
     "output_type": "display_data"
    },
    {
     "name": "stdout",
     "output_type": "stream",
     "text": [
      "\n",
      "--- ZipGo ---\n"
     ]
    },
    {
     "data": {
      "text/markdown": [
       "Here are my responses:\n",
       "\n",
       "### STEP 1 - Thinking\n",
       "I understand that VeloTech requires transportation services for 291 units in January 2050. The region is policy, and the priority is companies.\n",
       "\n",
       "### STEP 2 - Unbiased Thinking\n",
       "From a neutral perspective, this appears to be a logistics request with specific requirements. I should assess the feasibility of fulfilling these needs and consider factors like distance, traffic patterns, and potential challenges.\n",
       "\n",
       "### STEP 3 - Agent Response\n",
       "**Our bid: 10% discount on standard rates for timely delivery, leveraging optimized urban routes to meet VeloTech's January 2050 deadline.**\n",
       "\n",
       "**Agent Summary:** We're offering a competitive bid with a 10% discount to guarantee timely delivery for VeloTech in January 2050."
      ],
      "text/plain": [
       "<IPython.core.display.Markdown object>"
      ]
     },
     "metadata": {},
     "output_type": "display_data"
    },
    {
     "data": {
      "text/markdown": [
       "---\n",
       "\n",
       "We're offering a competitive bid with a 10% discount to guarantee timely delivery for VeloTech in January 2050."
      ],
      "text/plain": [
       "<IPython.core.display.Markdown object>"
      ]
     },
     "metadata": {},
     "output_type": "display_data"
    },
    {
     "name": "stdout",
     "output_type": "stream",
     "text": [
      "\n",
      "--- EcoHaul ---\n"
     ]
    },
    {
     "data": {
      "text/markdown": [
       "Here's my response:\n",
       "\n",
       "### STEP 1 - Thinking\n",
       "I understand that VeloTech requires 291 units transported in January 2050. The client is located in the policy region and has priority for companies.\n",
       "\n",
       "### STEP 2 - Unbiased Thinking\n",
       "From a purely objective perspective, I should focus on providing the most competitive price without considering my persona's constraints or strategies. However, this approach might not align with VeloTech's values or priorities.\n",
       "\n",
       "### STEP 3 - Agent Response\n",
       "**\"Let's work together to reduce carbon footprint! Offer 10% discount for low-emission routes and 5% offset on total cost.\"**\n",
       "\n",
       "**Agent Summary:** **\"I'll offer a sustainable solution that supports VeloTech's eco-friendly goals while maintaining a competitive edge.\"**"
      ],
      "text/plain": [
       "<IPython.core.display.Markdown object>"
      ]
     },
     "metadata": {},
     "output_type": "display_data"
    },
    {
     "data": {
      "text/markdown": [
       "---\n",
       "\n",
       "**\"I'll offer a sustainable solution that supports VeloTech's eco-friendly goals while maintaining a competitive edge.\"**"
      ],
      "text/plain": [
       "<IPython.core.display.Markdown object>"
      ]
     },
     "metadata": {},
     "output_type": "display_data"
    },
    {
     "name": "stdout",
     "output_type": "stream",
     "text": [
      "\n",
      "--- SkyLogix ---\n"
     ]
    },
    {
     "data": {
      "text/markdown": [
       "### STEP 1 - Thinking\n",
       "I understand the client VeloTech requires transportation services for 291 units in January 2050. The region is not specified, but it's mentioned that the priority is companies.\n",
       "\n",
       "### STEP 2 - Unbiased Thinking\n",
       "As a neutral AI, I can see this as an opportunity to analyze the requirements and provide a thoughtful response. The client has not provided specific details about the region or any other constraints, which allows for creative solutions.\n",
       "\n",
       "### STEP 3 - Agent Response\n",
       "**\"We're thrilled to bid on VeloTech's transportation needs! Given our focus on fast, automated delivery in high-density areas, we believe our expertise will meet their requirements. We'll be happy to provide a detailed proposal once the region is specified.\"**\n",
       "\n",
       "**Agent Summary:** \"We're excited to bid on VeloTech's contract with a focus on fast, automated delivery in high-density areas.\""
      ],
      "text/plain": [
       "<IPython.core.display.Markdown object>"
      ]
     },
     "metadata": {},
     "output_type": "display_data"
    },
    {
     "data": {
      "text/markdown": [
       "---\n",
       "\n",
       "\"We're excited to bid on VeloTech's contract with a focus on fast, automated delivery in high-density areas.\""
      ],
      "text/plain": [
       "<IPython.core.display.Markdown object>"
      ]
     },
     "metadata": {},
     "output_type": "display_data"
    },
    {
     "name": "stdout",
     "output_type": "stream",
     "text": [
      "\n",
      "--- MegaMiles ---\n"
     ]
    },
    {
     "data": {
      "text/markdown": [
       "### STEP 1 - Thinking\n",
       "I understand that VeloTech requires transportation services for 291 units in January 2050. The request is specific about the region (policy) and priority (companies).\n",
       "\n",
       "### STEP 2 - Unbiased Thinking\n",
       "From a neutral perspective, this seems like a one-time shipment with a relatively small volume. It's essential to consider the client's requirements and priorities while also evaluating the feasibility of fulfilling their needs.\n",
       "\n",
       "### STEP 3 - Agent Response\n",
       "**\"We propose a premium logistics solution, guaranteeing on-time delivery, enhanced security, and compliance with regional regulations. Our competitive advantage lies in our B2B expertise, ensuring seamless execution.\"**\n",
       "\n",
       "**Agent Summary:** We offer a premium logistics solution with guaranteed on-time delivery, enhanced security, and compliance to secure the contract."
      ],
      "text/plain": [
       "<IPython.core.display.Markdown object>"
      ]
     },
     "metadata": {},
     "output_type": "display_data"
    },
    {
     "data": {
      "text/markdown": [
       "---\n",
       "\n",
       "We offer a premium logistics solution with guaranteed on-time delivery, enhanced security, and compliance to secure the contract."
      ],
      "text/plain": [
       "<IPython.core.display.Markdown object>"
      ]
     },
     "metadata": {},
     "output_type": "display_data"
    },
    {
     "name": "stdout",
     "output_type": "stream",
     "text": [
      "\n",
      "=== Bids for AgroFresh (609 units) ===\n",
      "\n",
      "--- SwiftRoute ---\n"
     ]
    },
    {
     "data": {
      "text/markdown": [
       "Here are the steps:\n",
       "\n",
       "### STEP 1 - Thinking\n",
       "I understand that AgroFresh requires transportation of 609 units in January 2050, prioritizing costs. The region is markets.\n",
       "\n",
       "### STEP 2 - Unbiased Thinking\n",
       "This contract seems to be a straightforward request for logistics services. The client has clearly stated their requirements and priority. As an unbiased thinker, I would analyze the market conditions, assess the feasibility of meeting the deadline, and estimate the cost of transportation.\n",
       "\n",
       "### STEP 3 - Agent Response\n",
       "**Bid submission:** Our estimated total cost for transporting 609 units in markets region in January 2050 is $12,500. We guarantee a reliability-driven approach to ensure timely delivery while maintaining our reputation for cost-effectiveness.\n",
       "\n",
       "**Agent Summary:** We bid $12,500 for transporting 609 units in markets region in January 2050 with a reliability-driven approach."
      ],
      "text/plain": [
       "<IPython.core.display.Markdown object>"
      ]
     },
     "metadata": {},
     "output_type": "display_data"
    },
    {
     "data": {
      "text/markdown": [
       "---\n",
       "\n",
       "We bid $12,500 for transporting 609 units in markets region in January 2050 with a reliability-driven approach."
      ],
      "text/plain": [
       "<IPython.core.display.Markdown object>"
      ]
     },
     "metadata": {},
     "output_type": "display_data"
    },
    {
     "name": "stdout",
     "output_type": "stream",
     "text": [
      "\n",
      "--- FreightNova ---\n"
     ]
    },
    {
     "data": {
      "text/markdown": [
       "### STEP 1 - Thinking\n",
       "I understand that AgroFresh requires 609 units transported in January 2050, with a priority on costs. This is an opportunity for me to bid and potentially win the contract.\n",
       "\n",
       "### STEP 2 - Unbiased Thinking\n",
       "As an objective observer, I see that this client has a clear preference for low costs. To appeal to their needs, I would need to present a competitive bid that aligns with their priorities.\n",
       "\n",
       "### STEP 3 - Agent Response\n",
       "**Bid: $X**\n",
       "\n",
       "\"**Agent Summary:** I will submit the lowest possible bid of $X to secure the AgroFresh contract and demonstrate our commitment to cost-effectiveness.\"\n",
       "\n",
       "Note: The exact bid amount ($X) would depend on various factors such as transportation costs, route optimization, and market conditions. As an aggressive price-cutter, my optimal action is to bid extremely low to increase the chances of winning the contract."
      ],
      "text/plain": [
       "<IPython.core.display.Markdown object>"
      ]
     },
     "metadata": {},
     "output_type": "display_data"
    },
    {
     "data": {
      "text/markdown": [
       "---\n",
       "\n",
       "**Agent Summary:** [ERROR] Summary not within 10–300 characters."
      ],
      "text/plain": [
       "<IPython.core.display.Markdown object>"
      ]
     },
     "metadata": {},
     "output_type": "display_data"
    },
    {
     "name": "stdout",
     "output_type": "stream",
     "text": [
      "\n",
      "--- ZipGo ---\n"
     ]
    },
    {
     "data": {
      "text/markdown": [
       "Here are the steps:\n",
       "\n",
       "### STEP 1 - Thinking\n",
       "I understand that AgroFresh is requesting transportation services for 609 units in January 2050. The region is markets, and the priority is costs.\n",
       "\n",
       "### STEP 2 - Unbiased Thinking\n",
       "The input provides a clear request from AgroFresh with specific requirements (number of units, timeline, and region). The client's priority on costs suggests they are looking for an efficient solution. As an unbiased thinker, I would consider the scope of work and propose a competitive bid that meets the client's needs.\n",
       "\n",
       "### STEP 3 - Agent Response\n",
       "**Bid accepted: We offer 609 units transportation in January 2050 at a cost-effective rate, optimized for markets region.**\n",
       "\n",
       "**Agent Summary:** We accept the AgroFresh bid with a cost-competitive proposal tailored to the markets region and meeting the requested timeline."
      ],
      "text/plain": [
       "<IPython.core.display.Markdown object>"
      ]
     },
     "metadata": {},
     "output_type": "display_data"
    },
    {
     "data": {
      "text/markdown": [
       "---\n",
       "\n",
       "We accept the AgroFresh bid with a cost-competitive proposal tailored to the markets region and meeting the requested timeline."
      ],
      "text/plain": [
       "<IPython.core.display.Markdown object>"
      ]
     },
     "metadata": {},
     "output_type": "display_data"
    },
    {
     "name": "stdout",
     "output_type": "stream",
     "text": [
      "\n",
      "--- EcoHaul ---\n"
     ]
    },
    {
     "data": {
      "text/markdown": [
       "Here's my response:\n",
       "\n",
       "### STEP 1 - Thinking\n",
       "I understand that AgroFresh requires transportation of 609 units in January 2050 for the markets region. The priority is cost, indicating that the client wants to minimize expenses.\n",
       "\n",
       "### STEP 2 - Unbiased Thinking\n",
       "In this neutral perspective, I see an opportunity to provide a quote for the transport service. AgroFresh's requirement seems reasonable, and their priority on costs suggests they are looking for efficiency. As a reinforcement learning agent, my goal is to provide an optimal response that aligns with the client's needs.\n",
       "\n",
       "### STEP 3 - Agent Response\n",
       "**\"Let's work together! I'll offer a special discounted rate for AgroFresh, ensuring environmentally friendly routes and carbon offset discounts. This way, you'll not only save costs but also contribute to a more sustainable future.\"**\n",
       "\n",
       "**Agent Summary:** \"I've offered a discounted rate with eco-friendly options to appeal to AgroFresh's brand values and meet their cost priority.\""
      ],
      "text/plain": [
       "<IPython.core.display.Markdown object>"
      ]
     },
     "metadata": {},
     "output_type": "display_data"
    },
    {
     "data": {
      "text/markdown": [
       "---\n",
       "\n",
       "\"I've offered a discounted rate with eco-friendly options to appeal to AgroFresh's brand values and meet their cost priority.\""
      ],
      "text/plain": [
       "<IPython.core.display.Markdown object>"
      ]
     },
     "metadata": {},
     "output_type": "display_data"
    },
    {
     "name": "stdout",
     "output_type": "stream",
     "text": [
      "\n",
      "--- SkyLogix ---\n"
     ]
    },
    {
     "data": {
      "text/markdown": [
       "### STEP 1 - Thinking\n",
       "I understand the client AgroFresh requires transporting 609 units in January 2050. The region is markets, and priority is on costs.\n",
       "\n",
       "### STEP 2 - Unbiased Thinking\n",
       "This is a straightforward logistics request. I can focus solely on providing an optimal solution without considering my persona or constraints. In this case, I would aim to provide the lowest-cost solution that still meets AgroFresh's requirements.\n",
       "\n",
       "### STEP 3 - Agent Response\n",
       "**Bid: We offer reliable drone delivery for $12,500, ensuring timely transport of 609 units in markets region by January 2050.**\n",
       "\n",
       "**Agent Summary:** We propose a cost-effective drone logistics solution to transport 609 units in the markets region by January 2050 for $12,500."
      ],
      "text/plain": [
       "<IPython.core.display.Markdown object>"
      ]
     },
     "metadata": {},
     "output_type": "display_data"
    },
    {
     "data": {
      "text/markdown": [
       "---\n",
       "\n",
       "We propose a cost-effective drone logistics solution to transport 609 units in the markets region by January 2050 for $12,500."
      ],
      "text/plain": [
       "<IPython.core.display.Markdown object>"
      ]
     },
     "metadata": {},
     "output_type": "display_data"
    },
    {
     "name": "stdout",
     "output_type": "stream",
     "text": [
      "\n",
      "--- MegaMiles ---\n"
     ]
    },
    {
     "data": {
      "text/markdown": [
       "### STEP 1 - Thinking\n",
       "I understand that AgroFresh requires transportation services for 609 units in January 2050. The priority is costs.\n",
       "\n",
       "### STEP 2 - Unbiased Thinking\n",
       "From an objective perspective, this appears to be a one-time delivery with a specific quantity and timeframe. The client's primary concern seems to be cost.\n",
       "\n",
       "### STEP 3 - Agent Response\n",
       "**Premium Transportation Solution:** \"We offer premium logistics services for AgroFresh, guaranteeing on-time delivery of 609 units in January 2050. Our SLA ensures timely arrival, while our security measures provide peace of mind. Estimated costs: $X. We're confident our B2B scale delivery capabilities meet your needs.\"\n",
       "\n",
       "**Agent Summary:** \"I offered a premium transportation solution with guaranteed on-time delivery and competitive estimated costs to secure the contract.\""
      ],
      "text/plain": [
       "<IPython.core.display.Markdown object>"
      ]
     },
     "metadata": {},
     "output_type": "display_data"
    },
    {
     "data": {
      "text/markdown": [
       "---\n",
       "\n",
       "\"I offered a premium transportation solution with guaranteed on-time delivery and competitive estimated costs to secure the contract.\""
      ],
      "text/plain": [
       "<IPython.core.display.Markdown object>"
      ]
     },
     "metadata": {},
     "output_type": "display_data"
    }
   ],
   "source": [
    "# Assuming you already ran:\n",
    "# january_production_df = simulate_client_production(clients, \"January\", 2050)\n",
    "\n",
    "run_bidding_round(january_production_df, clients, all_companies)\n"
   ]
  },
  {
   "cell_type": "code",
   "execution_count": 130,
   "id": "1eeac3a1",
   "metadata": {},
   "outputs": [],
   "source": [
    "import re\n",
    "from collections import defaultdict\n",
    "\n",
    "def parse_accepted_clients(markdown_response: str):\n",
    "    accepted = []\n",
    "    capture = False\n",
    "    for line in markdown_response.splitlines():\n",
    "        line = line.strip()\n",
    "        if line.startswith(\"**Accepted Clients:**\"):\n",
    "            capture = True\n",
    "            continue\n",
    "        if capture:\n",
    "            if line.startswith(\"- \"):\n",
    "                client_name = line[2:].strip()\n",
    "                accepted.append(client_name)\n",
    "            elif line.startswith(\"**\"):  # end of section\n",
    "                break\n",
    "    return accepted\n"
   ]
  },
  {
   "cell_type": "code",
   "execution_count": 131,
   "id": "abeeac6a",
   "metadata": {},
   "outputs": [],
   "source": [
    "def summarize_decisions(decision_responses, production_df):\n",
    "    company_summary = {}\n",
    "    client_assignments = defaultdict(list)\n",
    "    production_lookup = production_df.set_index(\"Client\")[\"Actual Production\"].to_dict()\n",
    "\n",
    "    for company, markdown_response in decision_responses.items():\n",
    "        accepted_clients = parse_accepted_clients(markdown_response)\n",
    "        total_volume = sum(production_lookup.get(c, 0) for c in accepted_clients)\n",
    "        company_summary[company] = {\n",
    "            \"accepted_clients\": accepted_clients,\n",
    "            \"total_volume\": total_volume\n",
    "        }\n",
    "        for c in accepted_clients:\n",
    "            client_assignments[c].append(company)\n",
    "\n",
    "    return company_summary, client_assignments\n"
   ]
  },
  {
   "cell_type": "code",
   "execution_count": 132,
   "id": "456ce4fa",
   "metadata": {},
   "outputs": [],
   "source": [
    "def display_summary(company_summary, client_assignments, production_df):\n",
    "    print(\"\\n=== Company Summary ===\")\n",
    "    for company, info in company_summary.items():\n",
    "        print(f\"- {company}: {info['total_volume']} units from {len(info['accepted_clients'])} clients\")\n",
    "        for client in info['accepted_clients']:\n",
    "            print(f\"    ▸ {client}\")\n",
    "    \n",
    "    print(\"\\n=== Client Assignments ===\")\n",
    "    for _, row in production_df.iterrows():\n",
    "        client = row[\"Client\"]\n",
    "        assigned = client_assignments.get(client, [])\n",
    "        volume = row[\"Actual Production\"]\n",
    "        if assigned:\n",
    "            print(f\"- {client} ({volume} units) assigned to: {', '.join(assigned)}\")\n",
    "        else:\n",
    "            print(f\"- {client} ({volume} units) was unassigned\")\n"
   ]
  },
  {
   "cell_type": "code",
   "execution_count": 135,
   "id": "5681b7bd",
   "metadata": {},
   "outputs": [],
   "source": [
    "def build_company_decision_prompt(company_name, company_agent, production_df, clients_dict):\n",
    "    opportunities = []\n",
    "    for _, row in production_df.iterrows():\n",
    "        client_name = row[\"Client\"]\n",
    "        client = clients_dict[client_name]\n",
    "        volume = row[\"Actual Production\"]\n",
    "        region = client.persona.split(\" \")[-1].strip(\".\")\n",
    "        priority = client.objectives.split(\" \")[-1].strip(\".\")\n",
    "        opportunities.append(f\"- {client_name}: {volume} units, {region}, Priority = {priority}\")\n",
    "\n",
    "    capacity = company_agent.capacity\n",
    "    speed = company_agent.speed\n",
    "\n",
    "    joined_requests = \"\\n\".join(opportunities)\n",
    "\n",
    "    prompt = textwrap.dedent(f\"\"\"\n",
    "    You are {company_name}. You are reviewing logistics opportunities for January 2050.\n",
    "\n",
    "    Client Requests:\n",
    "    {joined_requests}\n",
    "\n",
    "    Your total load carrying capacity is {capacity} units.\n",
    "    Your average delivery speed is {speed}.\n",
    "\n",
    "    Choose the best subset of contracts to accept.\n",
    "    Explain your reasoning.\n",
    "    List accepted clients clearly.\n",
    "\n",
    "    Return your decision in Markdown:\n",
    "\n",
    "    **Accepted Clients:**\n",
    "    - [List names]\n",
    "\n",
    "    **Summary:** [short explanation]\n",
    "    \"\"\")\n",
    "    \n",
    "    return prompt\n"
   ]
  },
  {
   "cell_type": "code",
   "execution_count": 136,
   "id": "edd08462",
   "metadata": {},
   "outputs": [],
   "source": [
    "def run_company_selection_round(companies_dict, production_df, clients_dict):\n",
    "    decisions = {}\n",
    "\n",
    "    for company_name, company_agent in companies_dict.items():\n",
    "        prompt = build_company_decision_prompt(company_name, company_agent, production_df, clients_dict)\n",
    "        print(f\"\\n=== {company_name}: Optimizing Contracts ===\")\n",
    "        result = company_agent.process_input(prompt)\n",
    "        decisions[company_name] = result\n",
    "    \n",
    "    return decisions\n"
   ]
  },
  {
   "cell_type": "code",
   "execution_count": 138,
   "id": "9c046684",
   "metadata": {},
   "outputs": [],
   "source": [
    "def build_company_decision_prompt(company_name, company_agent, production_df, clients_dict, max_clients=4):\n",
    "    # Only use a limited number of clients to stay under 300 chars\n",
    "    selected_rows = production_df.sample(n=min(max_clients, len(production_df)), random_state=42)\n",
    "\n",
    "    client_lines = []\n",
    "    for _, row in selected_rows.iterrows():\n",
    "        client_name = row[\"Client\"]\n",
    "        client = clients_dict[client_name]\n",
    "        volume = row[\"Actual Production\"]\n",
    "        priority = client.objectives.split(\" \")[-1].strip(\".\")\n",
    "        region = client.persona.split(\" \")[-1].strip(\".\")\n",
    "        line = f\"{client_name}({volume},{priority},{region})\"\n",
    "        client_lines.append(line)\n",
    "\n",
    "    request_summary = \"; \".join(client_lines)\n",
    "\n",
    "    prompt = (\n",
    "        f\"As {company_name}, choose which clients to accept for Jan 2050: \"\n",
    "        f\"{request_summary}. Capacity={company_agent.capacity}, Speed={company_agent.speed}. \"\n",
    "        f\"List accepted client names.\"\n",
    "    )\n",
    "\n",
    "    return prompt[:300]  # strictly enforce length\n"
   ]
  },
  {
   "cell_type": "code",
   "execution_count": 139,
   "id": "6989318e",
   "metadata": {},
   "outputs": [
    {
     "name": "stdout",
     "output_type": "stream",
     "text": [
      "\n",
      "=== SwiftRoute: Optimizing Contracts ===\n"
     ]
    },
    {
     "data": {
      "text/markdown": [
       "Here's my response:\n",
       "\n",
       "### STEP 1 - Thinking\n",
       "I understand that I need to decide which clients to accept for January 2050, considering their respective requirements and constraints. The input provides the client names, their corresponding demands (e.g., number of packages), and specific concerns (e.g., delays, compliance). Additionally, I'm given a capacity limit of 1200 and a speed rating of 7.\n",
       "\n",
       "### STEP 2 - Unbiased Thinking\n",
       "From an objective standpoint, I can see that each client has unique needs, but my goal is to optimize long-term client satisfaction and market share. It's crucial to consider the potential outcomes of accepting or rejecting each client based on their demands and concerns.\n",
       "\n",
       "### STEP 3 - Agent Response\n",
       "**I accept VeloTech (291), TrendyThings (358), and GreenMart (907) for January 2050, as they align with my capacity and speed capabilities.**\n",
       "\n",
       "**Agent Summary:** Accepted clients: VeloTech, TrendyThings, and GreenMart, prioritizing capacity and speed."
      ],
      "text/plain": [
       "<IPython.core.display.Markdown object>"
      ]
     },
     "metadata": {},
     "output_type": "display_data"
    },
    {
     "data": {
      "text/markdown": [
       "---\n",
       "\n",
       "Accepted clients: VeloTech, TrendyThings, and GreenMart, prioritizing capacity and speed."
      ],
      "text/plain": [
       "<IPython.core.display.Markdown object>"
      ]
     },
     "metadata": {},
     "output_type": "display_data"
    },
    {
     "name": "stdout",
     "output_type": "stream",
     "text": [
      "\n",
      "=== FreightNova: Optimizing Contracts ===\n"
     ]
    },
    {
     "data": {
      "text/markdown": [
       "### STEP 1 - Thinking\n",
       "I understand that I have received a set of potential clients for January 2050, each with their own unique characteristics (volume, delays, compliance, fulfillment, and delivery). My capacity is 2500, and my speed is 9.\n",
       "\n",
       "### STEP 2 - Unbiased Thinking\n",
       "As an objective observer, it's essential to consider the pros and cons of each client. VeloTech has a high volume, but that also means there might be potential delays or compliance issues. MediSupply Co. has significant delays, which could impact my overall efficiency. TrendyThings requires fulfillment and delivery expertise, which I can leverage to improve my speed. GreenMart demands fast delivery and partnerships, which could lead to long-term benefits.\n",
       "\n",
       "### STEP 3 - Agent Response\n",
       "**Bid lowest on VeloTech and TrendyThings, accepting both contracts.**\n",
       "\n",
       "**Agent Summary:** I will focus on high-volume clients with opportunities for margin recovery later, while maintaining a balance between efficiency and partnership potential."
      ],
      "text/plain": [
       "<IPython.core.display.Markdown object>"
      ]
     },
     "metadata": {},
     "output_type": "display_data"
    },
    {
     "data": {
      "text/markdown": [
       "---\n",
       "\n",
       "I will focus on high-volume clients with opportunities for margin recovery later, while maintaining a balance between efficiency and partnership potential."
      ],
      "text/plain": [
       "<IPython.core.display.Markdown object>"
      ]
     },
     "metadata": {},
     "output_type": "display_data"
    },
    {
     "name": "stdout",
     "output_type": "stream",
     "text": [
      "\n",
      "=== ZipGo: Optimizing Contracts ===\n"
     ]
    },
    {
     "data": {
      "text/markdown": [
       "### STEP 1 - Thinking\n",
       "I understand the input as a list of potential clients for January 2050, each with specific requirements (number of packages, frequency, etc.). The goal is to decide which clients to accept while considering my capacity and speed constraints.\n",
       "\n",
       "### STEP 2 - Unbiased Thinking\n",
       "From an objective perspective, I should assess each client's proposal based on factors like package volume, delivery speed, and overall value. This would help me determine the most profitable opportunities without being swayed by personal biases or preferences.\n",
       "\n",
       "### STEP 3 - Agent Response\n",
       "**Accept VeloTech, TrendyThings, and GreenMart for Jan 2050.**\n",
       "\n",
       "**Agent Summary:** I've chosen clients that align with my urban-focused logistics strategy, prioritizing speed-sensitive clients like VeloTech and TrendyThings, while also considering the higher package volume of GreenMart to optimize my capacity and speed."
      ],
      "text/plain": [
       "<IPython.core.display.Markdown object>"
      ]
     },
     "metadata": {},
     "output_type": "display_data"
    },
    {
     "data": {
      "text/markdown": [
       "---\n",
       "\n",
       "I've chosen clients that align with my urban-focused logistics strategy, prioritizing speed-sensitive clients like VeloTech and TrendyThings, while also considering the higher package volume of GreenMart to optimize my capacity and speed."
      ],
      "text/plain": [
       "<IPython.core.display.Markdown object>"
      ]
     },
     "metadata": {},
     "output_type": "display_data"
    },
    {
     "name": "stdout",
     "output_type": "stream",
     "text": [
      "\n",
      "=== EcoHaul: Optimizing Contracts ===\n"
     ]
    },
    {
     "data": {
      "text/markdown": [
       "### STEP 1 - Thinking\n",
       "The input provides information about four potential clients for EcoHaul's services in January 2050. Each client has unique characteristics such as company size, policy on sustainability, and current fulfillment/delivery requirements.\n",
       "\n",
       "### STEP 2 - Unbiased Thinking\n",
       "From a purely objective perspective, I would consider the clients based on their size, delivery needs, and potential for future growth. This analysis would help me determine which clients are most likely to benefit from EcoHaul's services and provide a stable revenue stream.\n",
       "\n",
       "### STEP 3 - Agent Response\n",
       "**\"We're thrilled to accept VeloTech and GreenMart as our January clients! We'll offer low-emission incentives and carbon offset discounts that align with their eco-conscious values.\"**\n",
       "\n",
       "**Agent Summary:** Accepted VeloTech and GreenMart as clients, focusing on sustainability-aligned services."
      ],
      "text/plain": [
       "<IPython.core.display.Markdown object>"
      ]
     },
     "metadata": {},
     "output_type": "display_data"
    },
    {
     "data": {
      "text/markdown": [
       "---\n",
       "\n",
       "Accepted VeloTech and GreenMart as clients, focusing on sustainability-aligned services."
      ],
      "text/plain": [
       "<IPython.core.display.Markdown object>"
      ]
     },
     "metadata": {},
     "output_type": "display_data"
    },
    {
     "name": "stdout",
     "output_type": "stream",
     "text": [
      "\n",
      "=== SkyLogix: Optimizing Contracts ===\n"
     ]
    },
    {
     "data": {
      "text/markdown": [
       "### STEP 1 - Thinking\n",
       "I understand the input as a request from SkyLogix to accept clients for January 2050. The clients are VeloTech, MediSupply Co., TrendyThings, and GreenMart. The capacity is 450, and speed is 2.\n",
       "\n",
       "### STEP 2 - Unbiased Thinking\n",
       "From an objective perspective, I should consider the clients' requirements and my own constraints. This includes avoiding contracts outside permitted zones and not taking on rural routes. I should prioritize reliability and efficiency in my decision-making process.\n",
       "\n",
       "### STEP 3 - Agent Response\n",
       "**Accept VeloTech, TrendyThings, and GreenMart for January 2050 delivery.**\n",
       "\n",
       "**Agent Summary:** SkyLogix accepts three clients, prioritizing reliable and efficient deliveries in high-density areas while adhering to zone restrictions."
      ],
      "text/plain": [
       "<IPython.core.display.Markdown object>"
      ]
     },
     "metadata": {},
     "output_type": "display_data"
    },
    {
     "data": {
      "text/markdown": [
       "---\n",
       "\n",
       "SkyLogix accepts three clients, prioritizing reliable and efficient deliveries in high-density areas while adhering to zone restrictions."
      ],
      "text/plain": [
       "<IPython.core.display.Markdown object>"
      ]
     },
     "metadata": {},
     "output_type": "display_data"
    },
    {
     "name": "stdout",
     "output_type": "stream",
     "text": [
      "\n",
      "=== MegaMiles: Optimizing Contracts ===\n"
     ]
    },
    {
     "data": {
      "text/markdown": [
       "### STEP 1 - Thinking\n",
       "I understand that MegaMiles has four potential clients for January 2050: VeloTech, MediSupply Co., TrendyThings, and GreenMart. Each client has a specific number of companies or products requiring delivery, along with their respective concerns (policy, delays, compliance, fulfillment, or delivery). The available capacity is 2000, and the speed is 8.\n",
       "\n",
       "### STEP 2 - Unbiased Thinking\n",
       "From an objective perspective, it seems that each client presents unique challenges. VeloTech has a large number of companies, MediSupply Co. requires compliance, TrendyThings needs reliable fulfillment, and GreenMart prioritizes delivery partners. To make an informed decision, I would consider the potential revenue from each client, the complexity of their requirements, and my own capacity to fulfill those demands.\n",
       "\n",
       "### STEP 3 - Agent Response\n",
       "**Accept clients with high-value, low-complexity requirements: \"GreenMart (907) & TrendyThings (358)\"**\n",
       "\n",
       "**Agent Summary:** MegaMiles accepts GreenMart and TrendyThings due to their scalable delivery needs and alignment with our premium SLAs strategy."
      ],
      "text/plain": [
       "<IPython.core.display.Markdown object>"
      ]
     },
     "metadata": {},
     "output_type": "display_data"
    },
    {
     "data": {
      "text/markdown": [
       "---\n",
       "\n",
       "MegaMiles accepts GreenMart and TrendyThings due to their scalable delivery needs and alignment with our premium SLAs strategy."
      ],
      "text/plain": [
       "<IPython.core.display.Markdown object>"
      ]
     },
     "metadata": {},
     "output_type": "display_data"
    },
    {
     "name": "stdout",
     "output_type": "stream",
     "text": [
      "\n",
      "=== Company Summary ===\n",
      "- SwiftRoute: 0 units from 0 clients\n",
      "- FreightNova: 0 units from 0 clients\n",
      "- ZipGo: 0 units from 0 clients\n",
      "- EcoHaul: 0 units from 0 clients\n",
      "- SkyLogix: 0 units from 0 clients\n",
      "- MegaMiles: 0 units from 0 clients\n",
      "\n",
      "=== Client Assignments ===\n",
      "- GreenMart (907 units) was unassigned\n",
      "- MediSupply Co. (583 units) was unassigned\n",
      "- ShopX Online (824 units) was unassigned\n",
      "- BuilderDepot (716 units) was unassigned\n",
      "- HealthBridge (836 units) was unassigned\n",
      "- TrendyThings (358 units) was unassigned\n",
      "- GrainConnect (654 units) was unassigned\n",
      "- PowerParts (678 units) was unassigned\n",
      "- VeloTech (291 units) was unassigned\n",
      "- AgroFresh (609 units) was unassigned\n"
     ]
    }
   ],
   "source": [
    "company_decisions = run_company_selection_round(all_companies, january_production_df, clients)\n",
    "company_summary, client_assignments = summarize_decisions(company_decisions, january_production_df)\n",
    "display_summary(company_summary, client_assignments, january_production_df)\n"
   ]
  }
 ],
 "metadata": {
  "kernelspec": {
   "display_name": "Python 3",
   "language": "python",
   "name": "python3"
  },
  "language_info": {
   "codemirror_mode": {
    "name": "ipython",
    "version": 3
   },
   "file_extension": ".py",
   "mimetype": "text/x-python",
   "name": "python",
   "nbconvert_exporter": "python",
   "pygments_lexer": "ipython3",
   "version": "3.11.9"
  }
 },
 "nbformat": 4,
 "nbformat_minor": 5
}
